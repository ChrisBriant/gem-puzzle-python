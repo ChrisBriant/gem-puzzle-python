{
 "cells": [
  {
   "cell_type": "markdown",
   "id": "01bb9449",
   "metadata": {},
   "source": [
    "# Gem Puzzle\n",
    "\n",
    "## A project to create a puzzle where the user clicks on a gem which changes it color in a sequence of two steps and the surrounding gems by one."
   ]
  },
  {
   "cell_type": "code",
   "execution_count": 86,
   "id": "5f6e7217",
   "metadata": {},
   "outputs": [],
   "source": [
    "#imports\n",
    "import matplotlib.pyplot as plt\n",
    "from PIL import Image, ImageDraw\n",
    "import numpy as np\n",
    "import random,copy"
   ]
  },
  {
   "cell_type": "code",
   "execution_count": 30,
   "id": "891ff765",
   "metadata": {},
   "outputs": [],
   "source": [
    "# Create a new image with a white background\n",
    "image = Image.new(\"RGB\", (200, 200), \"#fff\")\n",
    "draw = ImageDraw.Draw(image)\n",
    "\n",
    "# Draw a colored square at coordinates (0, 0)\n",
    "square_size = 50\n",
    "x0, y0 = 0, 0\n",
    "x1, y1 = x0 + square_size, y0 + square_size\n",
    "draw.rectangle([x0, y0, x1, y1], outline=\"black\", fill=\"#388c4c\")\n",
    "\n",
    "# Display the image\n",
    "image.show()"
   ]
  },
  {
   "cell_type": "markdown",
   "id": "16f7f469",
   "metadata": {},
   "source": [
    "### Setup a color sequence and generate a grid"
   ]
  },
  {
   "cell_type": "code",
   "execution_count": 24,
   "id": "6de1621c",
   "metadata": {},
   "outputs": [
    {
     "name": "stdout",
     "output_type": "stream",
     "text": [
      "['#1a5dc9', '#831ac9', '#c9371a', '#20c91a', '#c9c91a', '#c91a9a', '#c9831a']\n"
     ]
    }
   ],
   "source": [
    "#Setup the possible colors\n",
    "available_colors = [\"#20c91a\",\"#c9c91a\",\"#c9831a\",\"#c9371a\",\"#1a5dc9\",\"#831ac9\",\"#c91a9a\"]\n",
    "\n",
    "color_sequence = random.sample(available_colors,len(available_colors))\n",
    "\n",
    "        "
   ]
  },
  {
   "cell_type": "code",
   "execution_count": 25,
   "id": "58435432",
   "metadata": {},
   "outputs": [],
   "source": [
    "#Configure the grid size\n",
    "grid_width = 6\n",
    "grid_height = 6"
   ]
  },
  {
   "cell_type": "code",
   "execution_count": 87,
   "id": "1b4fea7f",
   "metadata": {},
   "outputs": [
    {
     "name": "stdout",
     "output_type": "stream",
     "text": [
      "[{'color': '#831ac9', 'index': 0, 'grid_x': 0, 'grid_y': 0}, {'color': '#831ac9', 'index': 1, 'grid_x': 1, 'grid_y': 0}, {'color': '#831ac9', 'index': 2, 'grid_x': 2, 'grid_y': 0}, {'color': '#831ac9', 'index': 3, 'grid_x': 3, 'grid_y': 0}, {'color': '#831ac9', 'index': 4, 'grid_x': 4, 'grid_y': 0}, {'color': '#831ac9', 'index': 5, 'grid_x': 5, 'grid_y': 0}, {'color': '#831ac9', 'index': 6, 'grid_x': 0, 'grid_y': 1}, {'color': '#831ac9', 'index': 7, 'grid_x': 1, 'grid_y': 1}, {'color': '#831ac9', 'index': 8, 'grid_x': 2, 'grid_y': 1}, {'color': '#831ac9', 'index': 9, 'grid_x': 3, 'grid_y': 1}, {'color': '#831ac9', 'index': 10, 'grid_x': 4, 'grid_y': 1}, {'color': '#831ac9', 'index': 11, 'grid_x': 5, 'grid_y': 1}, {'color': '#831ac9', 'index': 12, 'grid_x': 0, 'grid_y': 2}, {'color': '#831ac9', 'index': 13, 'grid_x': 1, 'grid_y': 2}, {'color': '#831ac9', 'index': 14, 'grid_x': 2, 'grid_y': 2}, {'color': '#831ac9', 'index': 15, 'grid_x': 3, 'grid_y': 2}, {'color': '#831ac9', 'index': 16, 'grid_x': 4, 'grid_y': 2}, {'color': '#831ac9', 'index': 17, 'grid_x': 5, 'grid_y': 2}, {'color': '#831ac9', 'index': 18, 'grid_x': 0, 'grid_y': 3}, {'color': '#831ac9', 'index': 19, 'grid_x': 1, 'grid_y': 3}, {'color': '#831ac9', 'index': 20, 'grid_x': 2, 'grid_y': 3}, {'color': '#831ac9', 'index': 21, 'grid_x': 3, 'grid_y': 3}, {'color': '#831ac9', 'index': 22, 'grid_x': 4, 'grid_y': 3}, {'color': '#831ac9', 'index': 23, 'grid_x': 5, 'grid_y': 3}, {'color': '#831ac9', 'index': 24, 'grid_x': 0, 'grid_y': 4}, {'color': '#831ac9', 'index': 25, 'grid_x': 1, 'grid_y': 4}, {'color': '#831ac9', 'index': 26, 'grid_x': 2, 'grid_y': 4}, {'color': '#831ac9', 'index': 27, 'grid_x': 3, 'grid_y': 4}, {'color': '#831ac9', 'index': 28, 'grid_x': 4, 'grid_y': 4}, {'color': '#831ac9', 'index': 29, 'grid_x': 5, 'grid_y': 4}, {'color': '#831ac9', 'index': 30, 'grid_x': 0, 'grid_y': 5}, {'color': '#831ac9', 'index': 31, 'grid_x': 1, 'grid_y': 5}, {'color': '#831ac9', 'index': 32, 'grid_x': 2, 'grid_y': 5}, {'color': '#831ac9', 'index': 33, 'grid_x': 3, 'grid_y': 5}, {'color': '#831ac9', 'index': 34, 'grid_x': 4, 'grid_y': 5}, {'color': '#831ac9', 'index': 35, 'grid_x': 5, 'grid_y': 5}]\n"
     ]
    }
   ],
   "source": [
    "#Set up grid start state with a randomly selected color\n",
    "\n",
    "random_color = random.sample(color_sequence,1)[0]\n",
    "grid = []\n",
    "\n",
    "for i in range(0,grid_width * grid_height):  \n",
    "    grid.append({\n",
    "        \"color\" : random_color,\n",
    "        \"index\" : i,\n",
    "        \"grid_x\" : i % grid_width, \n",
    "        \"grid_y\" :i // grid_width,\n",
    "    })\n",
    "    \n",
    "print(grid)"
   ]
  },
  {
   "cell_type": "code",
   "execution_count": 29,
   "id": "12f7207f",
   "metadata": {},
   "outputs": [
    {
     "name": "stdout",
     "output_type": "stream",
     "text": [
      "[1, 6, 7]\n",
      "[5, 10, 3, 11, 9]\n",
      "[11, 4, 10]\n",
      "[8, 15, 20, 13, 21, 9, 7, 19]\n"
     ]
    }
   ],
   "source": [
    "#Gets all of the surrounding indicies of a given grid coordinate \n",
    "\n",
    "def get_surrounding_indices(grid_width, grid_height, grid_x, grid_y):\n",
    "    adjacent_indices = []\n",
    "\n",
    "    # Define relative positions of adjacent cells (including diagonals)\n",
    "    relative_positions = [\n",
    "        (0, -1), (1, 0), (0, 1), (-1, 0),\n",
    "        (1, 1), (1, -1), (-1, -1), (-1, 1)\n",
    "    ]\n",
    "\n",
    "    for dx, dy in relative_positions:\n",
    "        new_grid_x = grid_x + dx\n",
    "        new_grid_y = grid_y + dy\n",
    "\n",
    "        # Check if the new coordinates are within bounds\n",
    "        if 0 <= new_grid_x < grid_width and 0 <= new_grid_y < grid_height:\n",
    "            adjacent_index = new_grid_y * grid_width + new_grid_x\n",
    "            adjacent_indices.append(adjacent_index)\n",
    "\n",
    "    return adjacent_indices\n",
    "\n",
    "surrounding_1 = get_surrounding_indices(grid_width,grid_height,grid[0]['grid_x'],grid[0]['grid_y'])\n",
    "surrounding_2 = get_surrounding_indices(grid_width,grid_height,grid[4]['grid_x'],grid[4]['grid_y'])\n",
    "surrounding_3 = get_surrounding_indices(grid_width,grid_height,grid[5]['grid_x'],grid[5]['grid_y'])\n",
    "surrounding_4 = get_surrounding_indices(grid_width,grid_height,grid[14]['grid_x'],grid[14]['grid_y'])\n",
    "\n",
    "print(surrounding_1)\n",
    "print(surrounding_2)\n",
    "print(surrounding_3)\n",
    "print(surrounding_4)"
   ]
  },
  {
   "cell_type": "markdown",
   "id": "888e3147",
   "metadata": {},
   "source": [
    "### Displaying the Grid"
   ]
  },
  {
   "cell_type": "code",
   "execution_count": 31,
   "id": "b93c8ae1",
   "metadata": {},
   "outputs": [],
   "source": [
    "#Set up the image size\n",
    "\n",
    "square_size = 32\n",
    "\n",
    "# Create a new image with a white background\n",
    "image = Image.new(\"RGB\", (grid_width * square_size, grid_height * square_size), \"#fff\")\n",
    "draw = ImageDraw.Draw(image)"
   ]
  },
  {
   "cell_type": "code",
   "execution_count": 77,
   "id": "c86e6017",
   "metadata": {},
   "outputs": [],
   "source": [
    "#Draw the grid\n",
    "def draw_gem_grid(grid,square_size,img):\n",
    "    for gem in grid:\n",
    "        x1 = gem['grid_x']*square_size\n",
    "        y1 = gem['grid_y']*square_size\n",
    "        x2 = (gem['grid_x']*square_size) + square_size\n",
    "        y2 = (gem['grid_y']*square_size) + square_size\n",
    "        draw.rectangle([x1,y1, x2, y2], outline=\"black\", fill=gem['color'])\n",
    "\n",
    "    # Display the image\n",
    "    img.show()"
   ]
  },
  {
   "cell_type": "code",
   "execution_count": 70,
   "id": "11c1b8a2",
   "metadata": {},
   "outputs": [
    {
     "name": "stdout",
     "output_type": "stream",
     "text": [
      "#c9831a 1 7\n",
      "#831ac9 #1a5dc9\n"
     ]
    }
   ],
   "source": [
    "#Select a random gem from the grid and change it's color\n",
    "\n",
    "selected_gem = random.sample(grid,1)[0]\n",
    "#Get the index of the selected color\n",
    "\n",
    "#color_idx = 1\n",
    "\n",
    "print(selected_gem['color'],color_idx, len(color_sequence))\n",
    "\n",
    "def get_next_color(color_sequence,gem,step):\n",
    "    color_idx = color_sequence.index(gem['color'])\n",
    "    #next_color_idx = (color_idx + 2) % (len(color_sequence) + 1)\n",
    "    next_color_idx = color_idx + step\n",
    "    if next_color_idx > len(color_sequence) - 1:\n",
    "        next_color_idx = next_color_idx % len(color_sequence)\n",
    "    return color_sequence[next_color_idx]\n",
    "\n",
    "middle_gem_color = get_next_color(color_sequence,selected_gem,2)\n",
    "surrounding_gem_color = get_next_color(color_sequence,selected_gem,1)\n",
    "\n",
    "print(middle_gem_color,surrounding_gem_color)"
   ]
  },
  {
   "cell_type": "code",
   "execution_count": 42,
   "id": "d144690d",
   "metadata": {},
   "outputs": [
    {
     "data": {
      "text/plain": [
       "['#1a5dc9', '#831ac9', '#c9371a', '#20c91a', '#c9c91a', '#c91a9a', '#c9831a']"
      ]
     },
     "execution_count": 42,
     "metadata": {},
     "output_type": "execute_result"
    }
   ],
   "source": [
    "#Display the color sequence\n",
    "color_sequence"
   ]
  },
  {
   "cell_type": "code",
   "execution_count": 89,
   "id": "8a484e29",
   "metadata": {},
   "outputs": [],
   "source": [
    "#Modify the Grid with the next colors\n",
    "selected_gem = random.sample(grid,1)[0]\n",
    "\n",
    "def flip_gems(gem,grid):\n",
    "    new_grid = copy.deepcopy(grid)  \n",
    "    #Get the middle gem color and change the gem in the grid\n",
    "    middle_color = get_next_color(color_sequence,gem,2)\n",
    "    new_grid[gem['index']]['color'] = middle_color\n",
    "    #Get the surrounding gem indicies\n",
    "    surrdounding_indicies = get_surrounding_indices(grid_width,grid_height,gem['grid_x'],gem['grid_y'])\n",
    "    surrounding_color = get_next_color(color_sequence,gem,1)\n",
    "    for idx in surrdounding_indicies:\n",
    "        new_grid[idx]['color'] = surrounding_color\n",
    "    return new_grid\n",
    "    \n",
    "    \n",
    "    \n",
    "next_grid = flip_gems(selected_gem,grid)\n",
    "\n",
    "#Output the flipped grid\n",
    "draw_gem_grid(next_grid,square_size,image)"
   ]
  },
  {
   "cell_type": "code",
   "execution_count": 98,
   "id": "84d47d40",
   "metadata": {},
   "outputs": [
    {
     "name": "stdout",
     "output_type": "stream",
     "text": [
      "[[{'color': '#831ac9', 'index': 0, 'grid_x': 0, 'grid_y': 0}, {'color': '#831ac9', 'index': 1, 'grid_x': 1, 'grid_y': 0}, {'color': '#831ac9', 'index': 2, 'grid_x': 2, 'grid_y': 0}, {'color': '#831ac9', 'index': 3, 'grid_x': 3, 'grid_y': 0}, {'color': '#831ac9', 'index': 4, 'grid_x': 4, 'grid_y': 0}, {'color': '#831ac9', 'index': 5, 'grid_x': 5, 'grid_y': 0}, {'color': '#831ac9', 'index': 6, 'grid_x': 0, 'grid_y': 1}, {'color': '#831ac9', 'index': 7, 'grid_x': 1, 'grid_y': 1}, {'color': '#831ac9', 'index': 8, 'grid_x': 2, 'grid_y': 1}, {'color': '#831ac9', 'index': 9, 'grid_x': 3, 'grid_y': 1}, {'color': '#831ac9', 'index': 10, 'grid_x': 4, 'grid_y': 1}, {'color': '#831ac9', 'index': 11, 'grid_x': 5, 'grid_y': 1}, {'color': '#831ac9', 'index': 12, 'grid_x': 0, 'grid_y': 2}, {'color': '#831ac9', 'index': 13, 'grid_x': 1, 'grid_y': 2}, {'color': '#831ac9', 'index': 14, 'grid_x': 2, 'grid_y': 2}, {'color': '#831ac9', 'index': 15, 'grid_x': 3, 'grid_y': 2}, {'color': '#831ac9', 'index': 16, 'grid_x': 4, 'grid_y': 2}, {'color': '#831ac9', 'index': 17, 'grid_x': 5, 'grid_y': 2}, {'color': '#831ac9', 'index': 18, 'grid_x': 0, 'grid_y': 3}, {'color': '#831ac9', 'index': 19, 'grid_x': 1, 'grid_y': 3}, {'color': '#831ac9', 'index': 20, 'grid_x': 2, 'grid_y': 3}, {'color': '#831ac9', 'index': 21, 'grid_x': 3, 'grid_y': 3}, {'color': '#831ac9', 'index': 22, 'grid_x': 4, 'grid_y': 3}, {'color': '#831ac9', 'index': 23, 'grid_x': 5, 'grid_y': 3}, {'color': '#831ac9', 'index': 24, 'grid_x': 0, 'grid_y': 4}, {'color': '#831ac9', 'index': 25, 'grid_x': 1, 'grid_y': 4}, {'color': '#831ac9', 'index': 26, 'grid_x': 2, 'grid_y': 4}, {'color': '#831ac9', 'index': 27, 'grid_x': 3, 'grid_y': 4}, {'color': '#831ac9', 'index': 28, 'grid_x': 4, 'grid_y': 4}, {'color': '#831ac9', 'index': 29, 'grid_x': 5, 'grid_y': 4}, {'color': '#831ac9', 'index': 30, 'grid_x': 0, 'grid_y': 5}, {'color': '#831ac9', 'index': 31, 'grid_x': 1, 'grid_y': 5}, {'color': '#831ac9', 'index': 32, 'grid_x': 2, 'grid_y': 5}, {'color': '#831ac9', 'index': 33, 'grid_x': 3, 'grid_y': 5}, {'color': '#831ac9', 'index': 34, 'grid_x': 4, 'grid_y': 5}, {'color': '#831ac9', 'index': 35, 'grid_x': 5, 'grid_y': 5}], [{'color': '#831ac9', 'index': 0, 'grid_x': 0, 'grid_y': 0}, {'color': '#831ac9', 'index': 1, 'grid_x': 1, 'grid_y': 0}, {'color': '#831ac9', 'index': 2, 'grid_x': 2, 'grid_y': 0}, {'color': '#831ac9', 'index': 3, 'grid_x': 3, 'grid_y': 0}, {'color': '#831ac9', 'index': 4, 'grid_x': 4, 'grid_y': 0}, {'color': '#831ac9', 'index': 5, 'grid_x': 5, 'grid_y': 0}, {'color': '#831ac9', 'index': 6, 'grid_x': 0, 'grid_y': 1}, {'color': '#831ac9', 'index': 7, 'grid_x': 1, 'grid_y': 1}, {'color': '#831ac9', 'index': 8, 'grid_x': 2, 'grid_y': 1}, {'color': '#831ac9', 'index': 9, 'grid_x': 3, 'grid_y': 1}, {'color': '#831ac9', 'index': 10, 'grid_x': 4, 'grid_y': 1}, {'color': '#831ac9', 'index': 11, 'grid_x': 5, 'grid_y': 1}, {'color': '#831ac9', 'index': 12, 'grid_x': 0, 'grid_y': 2}, {'color': '#c9371a', 'index': 13, 'grid_x': 1, 'grid_y': 2}, {'color': '#c9371a', 'index': 14, 'grid_x': 2, 'grid_y': 2}, {'color': '#c9371a', 'index': 15, 'grid_x': 3, 'grid_y': 2}, {'color': '#831ac9', 'index': 16, 'grid_x': 4, 'grid_y': 2}, {'color': '#831ac9', 'index': 17, 'grid_x': 5, 'grid_y': 2}, {'color': '#831ac9', 'index': 18, 'grid_x': 0, 'grid_y': 3}, {'color': '#c9371a', 'index': 19, 'grid_x': 1, 'grid_y': 3}, {'color': '#20c91a', 'index': 20, 'grid_x': 2, 'grid_y': 3}, {'color': '#c9371a', 'index': 21, 'grid_x': 3, 'grid_y': 3}, {'color': '#831ac9', 'index': 22, 'grid_x': 4, 'grid_y': 3}, {'color': '#831ac9', 'index': 23, 'grid_x': 5, 'grid_y': 3}, {'color': '#831ac9', 'index': 24, 'grid_x': 0, 'grid_y': 4}, {'color': '#c9371a', 'index': 25, 'grid_x': 1, 'grid_y': 4}, {'color': '#c9371a', 'index': 26, 'grid_x': 2, 'grid_y': 4}, {'color': '#c9371a', 'index': 27, 'grid_x': 3, 'grid_y': 4}, {'color': '#831ac9', 'index': 28, 'grid_x': 4, 'grid_y': 4}, {'color': '#831ac9', 'index': 29, 'grid_x': 5, 'grid_y': 4}, {'color': '#831ac9', 'index': 30, 'grid_x': 0, 'grid_y': 5}, {'color': '#831ac9', 'index': 31, 'grid_x': 1, 'grid_y': 5}, {'color': '#831ac9', 'index': 32, 'grid_x': 2, 'grid_y': 5}, {'color': '#831ac9', 'index': 33, 'grid_x': 3, 'grid_y': 5}, {'color': '#831ac9', 'index': 34, 'grid_x': 4, 'grid_y': 5}, {'color': '#831ac9', 'index': 35, 'grid_x': 5, 'grid_y': 5}], [{'color': '#c9371a', 'index': 0, 'grid_x': 0, 'grid_y': 0}, {'color': '#c9371a', 'index': 1, 'grid_x': 1, 'grid_y': 0}, {'color': '#c9371a', 'index': 2, 'grid_x': 2, 'grid_y': 0}, {'color': '#831ac9', 'index': 3, 'grid_x': 3, 'grid_y': 0}, {'color': '#831ac9', 'index': 4, 'grid_x': 4, 'grid_y': 0}, {'color': '#831ac9', 'index': 5, 'grid_x': 5, 'grid_y': 0}, {'color': '#c9371a', 'index': 6, 'grid_x': 0, 'grid_y': 1}, {'color': '#20c91a', 'index': 7, 'grid_x': 1, 'grid_y': 1}, {'color': '#c9371a', 'index': 8, 'grid_x': 2, 'grid_y': 1}, {'color': '#831ac9', 'index': 9, 'grid_x': 3, 'grid_y': 1}, {'color': '#831ac9', 'index': 10, 'grid_x': 4, 'grid_y': 1}, {'color': '#831ac9', 'index': 11, 'grid_x': 5, 'grid_y': 1}, {'color': '#c9371a', 'index': 12, 'grid_x': 0, 'grid_y': 2}, {'color': '#c9371a', 'index': 13, 'grid_x': 1, 'grid_y': 2}, {'color': '#c9371a', 'index': 14, 'grid_x': 2, 'grid_y': 2}, {'color': '#c9371a', 'index': 15, 'grid_x': 3, 'grid_y': 2}, {'color': '#831ac9', 'index': 16, 'grid_x': 4, 'grid_y': 2}, {'color': '#831ac9', 'index': 17, 'grid_x': 5, 'grid_y': 2}, {'color': '#831ac9', 'index': 18, 'grid_x': 0, 'grid_y': 3}, {'color': '#c9371a', 'index': 19, 'grid_x': 1, 'grid_y': 3}, {'color': '#20c91a', 'index': 20, 'grid_x': 2, 'grid_y': 3}, {'color': '#c9371a', 'index': 21, 'grid_x': 3, 'grid_y': 3}, {'color': '#831ac9', 'index': 22, 'grid_x': 4, 'grid_y': 3}, {'color': '#831ac9', 'index': 23, 'grid_x': 5, 'grid_y': 3}, {'color': '#831ac9', 'index': 24, 'grid_x': 0, 'grid_y': 4}, {'color': '#c9371a', 'index': 25, 'grid_x': 1, 'grid_y': 4}, {'color': '#c9371a', 'index': 26, 'grid_x': 2, 'grid_y': 4}, {'color': '#c9371a', 'index': 27, 'grid_x': 3, 'grid_y': 4}, {'color': '#831ac9', 'index': 28, 'grid_x': 4, 'grid_y': 4}, {'color': '#831ac9', 'index': 29, 'grid_x': 5, 'grid_y': 4}, {'color': '#831ac9', 'index': 30, 'grid_x': 0, 'grid_y': 5}, {'color': '#831ac9', 'index': 31, 'grid_x': 1, 'grid_y': 5}, {'color': '#831ac9', 'index': 32, 'grid_x': 2, 'grid_y': 5}, {'color': '#831ac9', 'index': 33, 'grid_x': 3, 'grid_y': 5}, {'color': '#831ac9', 'index': 34, 'grid_x': 4, 'grid_y': 5}, {'color': '#831ac9', 'index': 35, 'grid_x': 5, 'grid_y': 5}], [{'color': '#c9371a', 'index': 0, 'grid_x': 0, 'grid_y': 0}, {'color': '#c9371a', 'index': 1, 'grid_x': 1, 'grid_y': 0}, {'color': '#c9371a', 'index': 2, 'grid_x': 2, 'grid_y': 0}, {'color': '#831ac9', 'index': 3, 'grid_x': 3, 'grid_y': 0}, {'color': '#831ac9', 'index': 4, 'grid_x': 4, 'grid_y': 0}, {'color': '#831ac9', 'index': 5, 'grid_x': 5, 'grid_y': 0}, {'color': '#c9371a', 'index': 6, 'grid_x': 0, 'grid_y': 1}, {'color': '#20c91a', 'index': 7, 'grid_x': 1, 'grid_y': 1}, {'color': '#20c91a', 'index': 8, 'grid_x': 2, 'grid_y': 1}, {'color': '#20c91a', 'index': 9, 'grid_x': 3, 'grid_y': 1}, {'color': '#20c91a', 'index': 10, 'grid_x': 4, 'grid_y': 1}, {'color': '#831ac9', 'index': 11, 'grid_x': 5, 'grid_y': 1}, {'color': '#c9371a', 'index': 12, 'grid_x': 0, 'grid_y': 2}, {'color': '#c9371a', 'index': 13, 'grid_x': 1, 'grid_y': 2}, {'color': '#20c91a', 'index': 14, 'grid_x': 2, 'grid_y': 2}, {'color': '#c9c91a', 'index': 15, 'grid_x': 3, 'grid_y': 2}, {'color': '#20c91a', 'index': 16, 'grid_x': 4, 'grid_y': 2}, {'color': '#831ac9', 'index': 17, 'grid_x': 5, 'grid_y': 2}, {'color': '#831ac9', 'index': 18, 'grid_x': 0, 'grid_y': 3}, {'color': '#c9371a', 'index': 19, 'grid_x': 1, 'grid_y': 3}, {'color': '#20c91a', 'index': 20, 'grid_x': 2, 'grid_y': 3}, {'color': '#20c91a', 'index': 21, 'grid_x': 3, 'grid_y': 3}, {'color': '#20c91a', 'index': 22, 'grid_x': 4, 'grid_y': 3}, {'color': '#831ac9', 'index': 23, 'grid_x': 5, 'grid_y': 3}, {'color': '#831ac9', 'index': 24, 'grid_x': 0, 'grid_y': 4}, {'color': '#c9371a', 'index': 25, 'grid_x': 1, 'grid_y': 4}, {'color': '#c9371a', 'index': 26, 'grid_x': 2, 'grid_y': 4}, {'color': '#c9371a', 'index': 27, 'grid_x': 3, 'grid_y': 4}, {'color': '#831ac9', 'index': 28, 'grid_x': 4, 'grid_y': 4}, {'color': '#831ac9', 'index': 29, 'grid_x': 5, 'grid_y': 4}, {'color': '#831ac9', 'index': 30, 'grid_x': 0, 'grid_y': 5}, {'color': '#831ac9', 'index': 31, 'grid_x': 1, 'grid_y': 5}, {'color': '#831ac9', 'index': 32, 'grid_x': 2, 'grid_y': 5}, {'color': '#831ac9', 'index': 33, 'grid_x': 3, 'grid_y': 5}, {'color': '#831ac9', 'index': 34, 'grid_x': 4, 'grid_y': 5}, {'color': '#831ac9', 'index': 35, 'grid_x': 5, 'grid_y': 5}], [{'color': '#c9371a', 'index': 0, 'grid_x': 0, 'grid_y': 0}, {'color': '#c9371a', 'index': 1, 'grid_x': 1, 'grid_y': 0}, {'color': '#c9371a', 'index': 2, 'grid_x': 2, 'grid_y': 0}, {'color': '#831ac9', 'index': 3, 'grid_x': 3, 'grid_y': 0}, {'color': '#831ac9', 'index': 4, 'grid_x': 4, 'grid_y': 0}, {'color': '#831ac9', 'index': 5, 'grid_x': 5, 'grid_y': 0}, {'color': '#20c91a', 'index': 6, 'grid_x': 0, 'grid_y': 1}, {'color': '#20c91a', 'index': 7, 'grid_x': 1, 'grid_y': 1}, {'color': '#20c91a', 'index': 8, 'grid_x': 2, 'grid_y': 1}, {'color': '#20c91a', 'index': 9, 'grid_x': 3, 'grid_y': 1}, {'color': '#20c91a', 'index': 10, 'grid_x': 4, 'grid_y': 1}, {'color': '#831ac9', 'index': 11, 'grid_x': 5, 'grid_y': 1}, {'color': '#c9c91a', 'index': 12, 'grid_x': 0, 'grid_y': 2}, {'color': '#20c91a', 'index': 13, 'grid_x': 1, 'grid_y': 2}, {'color': '#20c91a', 'index': 14, 'grid_x': 2, 'grid_y': 2}, {'color': '#c9c91a', 'index': 15, 'grid_x': 3, 'grid_y': 2}, {'color': '#20c91a', 'index': 16, 'grid_x': 4, 'grid_y': 2}, {'color': '#831ac9', 'index': 17, 'grid_x': 5, 'grid_y': 2}, {'color': '#20c91a', 'index': 18, 'grid_x': 0, 'grid_y': 3}, {'color': '#20c91a', 'index': 19, 'grid_x': 1, 'grid_y': 3}, {'color': '#20c91a', 'index': 20, 'grid_x': 2, 'grid_y': 3}, {'color': '#20c91a', 'index': 21, 'grid_x': 3, 'grid_y': 3}, {'color': '#20c91a', 'index': 22, 'grid_x': 4, 'grid_y': 3}, {'color': '#831ac9', 'index': 23, 'grid_x': 5, 'grid_y': 3}, {'color': '#831ac9', 'index': 24, 'grid_x': 0, 'grid_y': 4}, {'color': '#c9371a', 'index': 25, 'grid_x': 1, 'grid_y': 4}, {'color': '#c9371a', 'index': 26, 'grid_x': 2, 'grid_y': 4}, {'color': '#c9371a', 'index': 27, 'grid_x': 3, 'grid_y': 4}, {'color': '#831ac9', 'index': 28, 'grid_x': 4, 'grid_y': 4}, {'color': '#831ac9', 'index': 29, 'grid_x': 5, 'grid_y': 4}, {'color': '#831ac9', 'index': 30, 'grid_x': 0, 'grid_y': 5}, {'color': '#831ac9', 'index': 31, 'grid_x': 1, 'grid_y': 5}, {'color': '#831ac9', 'index': 32, 'grid_x': 2, 'grid_y': 5}, {'color': '#831ac9', 'index': 33, 'grid_x': 3, 'grid_y': 5}, {'color': '#831ac9', 'index': 34, 'grid_x': 4, 'grid_y': 5}, {'color': '#831ac9', 'index': 35, 'grid_x': 5, 'grid_y': 5}]]\n"
     ]
    }
   ],
   "source": [
    "#Create a gem pattern, starting from the initial grid and changing with a number of steps until it reaches the solution\n",
    "\n",
    "#Get random number of steps\n",
    "number_of_steps = random.randint(1,9)\n",
    "\n",
    "def get_gem_sequence_with_steps(start_grid,steps):\n",
    "    gem_sequence = [start_grid]\n",
    "    next_grid = start_grid\n",
    "    for i in range(0,steps):\n",
    "        if i > 0:\n",
    "            next_grid = gem_sequence[-1]\n",
    "        next_gem = random.sample(next_grid,1)[0]\n",
    "        gem_sequence.append(flip_gems(next_gem,next_grid))\n",
    "    return gem_sequence\n",
    "\n",
    "gem_seq = get_gem_sequence_with_steps(grid,number_of_steps)\n",
    "print(gem_seq)"
   ]
  },
  {
   "cell_type": "code",
   "execution_count": 102,
   "id": "2f28e47a",
   "metadata": {},
   "outputs": [
    {
     "name": "stdout",
     "output_type": "stream",
     "text": [
      "5\n",
      "[{'color': '#831ac9', 'index': 0, 'grid_x': 0, 'grid_y': 0}, {'color': '#831ac9', 'index': 1, 'grid_x': 1, 'grid_y': 0}, {'color': '#831ac9', 'index': 2, 'grid_x': 2, 'grid_y': 0}, {'color': '#831ac9', 'index': 3, 'grid_x': 3, 'grid_y': 0}, {'color': '#831ac9', 'index': 4, 'grid_x': 4, 'grid_y': 0}, {'color': '#831ac9', 'index': 5, 'grid_x': 5, 'grid_y': 0}, {'color': '#831ac9', 'index': 6, 'grid_x': 0, 'grid_y': 1}, {'color': '#831ac9', 'index': 7, 'grid_x': 1, 'grid_y': 1}, {'color': '#831ac9', 'index': 8, 'grid_x': 2, 'grid_y': 1}, {'color': '#831ac9', 'index': 9, 'grid_x': 3, 'grid_y': 1}, {'color': '#831ac9', 'index': 10, 'grid_x': 4, 'grid_y': 1}, {'color': '#831ac9', 'index': 11, 'grid_x': 5, 'grid_y': 1}, {'color': '#831ac9', 'index': 12, 'grid_x': 0, 'grid_y': 2}, {'color': '#831ac9', 'index': 13, 'grid_x': 1, 'grid_y': 2}, {'color': '#831ac9', 'index': 14, 'grid_x': 2, 'grid_y': 2}, {'color': '#831ac9', 'index': 15, 'grid_x': 3, 'grid_y': 2}, {'color': '#831ac9', 'index': 16, 'grid_x': 4, 'grid_y': 2}, {'color': '#831ac9', 'index': 17, 'grid_x': 5, 'grid_y': 2}, {'color': '#831ac9', 'index': 18, 'grid_x': 0, 'grid_y': 3}, {'color': '#831ac9', 'index': 19, 'grid_x': 1, 'grid_y': 3}, {'color': '#831ac9', 'index': 20, 'grid_x': 2, 'grid_y': 3}, {'color': '#831ac9', 'index': 21, 'grid_x': 3, 'grid_y': 3}, {'color': '#831ac9', 'index': 22, 'grid_x': 4, 'grid_y': 3}, {'color': '#831ac9', 'index': 23, 'grid_x': 5, 'grid_y': 3}, {'color': '#831ac9', 'index': 24, 'grid_x': 0, 'grid_y': 4}, {'color': '#831ac9', 'index': 25, 'grid_x': 1, 'grid_y': 4}, {'color': '#831ac9', 'index': 26, 'grid_x': 2, 'grid_y': 4}, {'color': '#831ac9', 'index': 27, 'grid_x': 3, 'grid_y': 4}, {'color': '#831ac9', 'index': 28, 'grid_x': 4, 'grid_y': 4}, {'color': '#831ac9', 'index': 29, 'grid_x': 5, 'grid_y': 4}, {'color': '#831ac9', 'index': 30, 'grid_x': 0, 'grid_y': 5}, {'color': '#831ac9', 'index': 31, 'grid_x': 1, 'grid_y': 5}, {'color': '#831ac9', 'index': 32, 'grid_x': 2, 'grid_y': 5}, {'color': '#831ac9', 'index': 33, 'grid_x': 3, 'grid_y': 5}, {'color': '#831ac9', 'index': 34, 'grid_x': 4, 'grid_y': 5}, {'color': '#831ac9', 'index': 35, 'grid_x': 5, 'grid_y': 5}]\n",
      "[{'color': '#c9371a', 'index': 0, 'grid_x': 0, 'grid_y': 0}, {'color': '#c9371a', 'index': 1, 'grid_x': 1, 'grid_y': 0}, {'color': '#c9371a', 'index': 2, 'grid_x': 2, 'grid_y': 0}, {'color': '#831ac9', 'index': 3, 'grid_x': 3, 'grid_y': 0}, {'color': '#831ac9', 'index': 4, 'grid_x': 4, 'grid_y': 0}, {'color': '#831ac9', 'index': 5, 'grid_x': 5, 'grid_y': 0}, {'color': '#20c91a', 'index': 6, 'grid_x': 0, 'grid_y': 1}, {'color': '#20c91a', 'index': 7, 'grid_x': 1, 'grid_y': 1}, {'color': '#20c91a', 'index': 8, 'grid_x': 2, 'grid_y': 1}, {'color': '#20c91a', 'index': 9, 'grid_x': 3, 'grid_y': 1}, {'color': '#20c91a', 'index': 10, 'grid_x': 4, 'grid_y': 1}, {'color': '#831ac9', 'index': 11, 'grid_x': 5, 'grid_y': 1}, {'color': '#c9c91a', 'index': 12, 'grid_x': 0, 'grid_y': 2}, {'color': '#20c91a', 'index': 13, 'grid_x': 1, 'grid_y': 2}, {'color': '#20c91a', 'index': 14, 'grid_x': 2, 'grid_y': 2}, {'color': '#c9c91a', 'index': 15, 'grid_x': 3, 'grid_y': 2}, {'color': '#20c91a', 'index': 16, 'grid_x': 4, 'grid_y': 2}, {'color': '#831ac9', 'index': 17, 'grid_x': 5, 'grid_y': 2}, {'color': '#20c91a', 'index': 18, 'grid_x': 0, 'grid_y': 3}, {'color': '#20c91a', 'index': 19, 'grid_x': 1, 'grid_y': 3}, {'color': '#20c91a', 'index': 20, 'grid_x': 2, 'grid_y': 3}, {'color': '#20c91a', 'index': 21, 'grid_x': 3, 'grid_y': 3}, {'color': '#20c91a', 'index': 22, 'grid_x': 4, 'grid_y': 3}, {'color': '#831ac9', 'index': 23, 'grid_x': 5, 'grid_y': 3}, {'color': '#831ac9', 'index': 24, 'grid_x': 0, 'grid_y': 4}, {'color': '#c9371a', 'index': 25, 'grid_x': 1, 'grid_y': 4}, {'color': '#c9371a', 'index': 26, 'grid_x': 2, 'grid_y': 4}, {'color': '#c9371a', 'index': 27, 'grid_x': 3, 'grid_y': 4}, {'color': '#831ac9', 'index': 28, 'grid_x': 4, 'grid_y': 4}, {'color': '#831ac9', 'index': 29, 'grid_x': 5, 'grid_y': 4}, {'color': '#831ac9', 'index': 30, 'grid_x': 0, 'grid_y': 5}, {'color': '#831ac9', 'index': 31, 'grid_x': 1, 'grid_y': 5}, {'color': '#831ac9', 'index': 32, 'grid_x': 2, 'grid_y': 5}, {'color': '#831ac9', 'index': 33, 'grid_x': 3, 'grid_y': 5}, {'color': '#831ac9', 'index': 34, 'grid_x': 4, 'grid_y': 5}, {'color': '#831ac9', 'index': 35, 'grid_x': 5, 'grid_y': 5}]\n"
     ]
    }
   ],
   "source": [
    "#Display the first and last gem grids in the sequence\n",
    "\n",
    "#gem_seq = get_gem_sequence_with_steps(grid,number_of_steps)\n",
    "first_grid = gem_seq[0]\n",
    "last_grid = gem_seq[-1]\n",
    "\n",
    "draw_gem_grid(first_grid,square_size,image)\n",
    "draw_gem_grid(last_grid,square_size,image)\n",
    "\n",
    "print(len(gem_seq))\n",
    "print(first_grid)\n",
    "print(last_grid)"
   ]
  },
  {
   "cell_type": "markdown",
   "id": "ceaf93ad",
   "metadata": {},
   "source": [
    "### Work out a way to get to the solution without knowing the steps"
   ]
  },
  {
   "cell_type": "code",
   "execution_count": 104,
   "id": "87f0e95e",
   "metadata": {},
   "outputs": [],
   "source": [
    "#The grid from the first\n",
    "grid_from_first_index = flip_gems(first_grid[1],first_grid)\n",
    "\n",
    "draw_gem_grid(grid_from_first_index,square_size,image)"
   ]
  },
  {
   "cell_type": "code",
   "execution_count": 122,
   "id": "5c9f2855",
   "metadata": {},
   "outputs": [
    {
     "name": "stdout",
     "output_type": "stream",
     "text": [
      "17\n",
      "36 36\n"
     ]
    }
   ],
   "source": [
    "#Write a function to compare a grid state to the final state and score it based on similarity\n",
    "\n",
    "def get_similarity_score(grid_1,grid_2):\n",
    "    score = 0\n",
    "    for i in range(0,len(grid_1)):\n",
    "        if grid_1[i]['color'] == grid_2[i]['color']:\n",
    "            score += 1\n",
    "    return score\n",
    "\n",
    "similarity_score = get_similarity_score(grid_from_first_index,last_grid)\n",
    "print(similarity_score)\n",
    "similarity_score_when_complete = get_similarity_score(first_grid,first_grid)\n",
    "print(similarity_score_when_complete,len(first_grid))"
   ]
  },
  {
   "cell_type": "code",
   "execution_count": 140,
   "id": "87a4e3d3",
   "metadata": {},
   "outputs": [
    {
     "name": "stdout",
     "output_type": "stream",
     "text": [
      "[{'idx': 0, 'score': 16}, {'idx': 1, 'score': 17}, {'idx': 2, 'score': 15}, {'idx': 3, 'score': 14}, {'idx': 4, 'score': 11}, {'idx': 5, 'score': 12}, {'idx': 6, 'score': 18}, {'idx': 7, 'score': 19}, {'idx': 8, 'score': 17}, {'idx': 9, 'score': 15}, {'idx': 10, 'score': 11}, {'idx': 11, 'score': 11}, {'idx': 12, 'score': 15}, {'idx': 13, 'score': 16}, {'idx': 14, 'score': 16}, {'idx': 15, 'score': 15}, {'idx': 16, 'score': 13}, {'idx': 17, 'score': 12}, {'idx': 18, 'score': 16}, {'idx': 19, 'score': 17}, {'idx': 20, 'score': 19}, {'idx': 21, 'score': 17}, {'idx': 22, 'score': 13}, {'idx': 23, 'score': 11}, {'idx': 24, 'score': 13}, {'idx': 25, 'score': 12}, {'idx': 26, 'score': 14}, {'idx': 27, 'score': 12}, {'idx': 28, 'score': 10}, {'idx': 29, 'score': 10}, {'idx': 30, 'score': 13}, {'idx': 31, 'score': 13}, {'idx': 32, 'score': 15}, {'idx': 33, 'score': 13}, {'idx': 34, 'score': 11}, {'idx': 35, 'score': 11}]\n"
     ]
    }
   ],
   "source": [
    "#Write a function to go through each item in the selected grid and get the similarity score\n",
    "\n",
    "def get_similarity_scores_for_grid(grid,solution_grid):\n",
    "    similarity_scores = []\n",
    "    for gem in grid:\n",
    "        #Flip the gems and then compare\n",
    "        flipped = flip_gems(gem,grid)\n",
    "        similarity_scores.append({ 'idx': gem['index'], 'score' : get_similarity_score(flipped,solution_grid)})\n",
    "    return similarity_scores\n",
    "        \n",
    "similarity_scores = get_similarity_scores_for_grid(first_grid,last_grid)\n",
    "print(similarity_scores)\n"
   ]
  },
  {
   "cell_type": "code",
   "execution_count": 141,
   "id": "15ab021a",
   "metadata": {},
   "outputs": [
    {
     "name": "stdout",
     "output_type": "stream",
     "text": [
      "[{'idx': 0, 'score': 16}, {'idx': 1, 'score': 17}, {'idx': 9, 'score': 19}, {'idx': 3, 'score': 14}, {'idx': 4, 'score': 11}, {'idx': 5, 'score': 12}, {'idx': 6, 'score': 18}, {'idx': 7, 'score': 19}, {'idx': 8, 'score': 17}, {'idx': 9, 'score': 15}, {'idx': 10, 'score': 11}, {'idx': 11, 'score': 11}, {'idx': 12, 'score': 15}, {'idx': 13, 'score': 16}, {'idx': 14, 'score': 16}, {'idx': 15, 'score': 15}, {'idx': 16, 'score': 13}, {'idx': 17, 'score': 12}, {'idx': 18, 'score': 16}, {'idx': 19, 'score': 17}, {'idx': 20, 'score': 19}, {'idx': 21, 'score': 17}, {'idx': 22, 'score': 13}, {'idx': 23, 'score': 11}, {'idx': 24, 'score': 13}, {'idx': 25, 'score': 12}, {'idx': 26, 'score': 14}, {'idx': 27, 'score': 12}, {'idx': 28, 'score': 10}, {'idx': 29, 'score': 10}, {'idx': 30, 'score': 13}, {'idx': 31, 'score': 13}, {'idx': 32, 'score': 15}, {'idx': 33, 'score': 13}, {'idx': 34, 'score': 11}, {'idx': 35, 'score': 11}] 9\n"
     ]
    }
   ],
   "source": [
    "#Get the highest score\n",
    "def get_highest_score(score_list):\n",
    "    max_score = float('-inf')  # Initialize with negative infinity\n",
    "    max_score_index = None\n",
    "    for entry in score_list:\n",
    "        if entry['score'] > max_score:\n",
    "            max_score = entry['score']\n",
    "            max_score_index = entry['idx']\n",
    "    return max_score_index\n",
    "\n",
    "similarity_scores[2] = { 'idx': 9, 'score': 19 } \n",
    "highest_score = get_highest_score(similarity_scores)\n",
    "print(similarity_scores,highest_score)"
   ]
  },
  {
   "cell_type": "code",
   "execution_count": 147,
   "id": "9693c5a1",
   "metadata": {},
   "outputs": [
    {
     "name": "stdout",
     "output_type": "stream",
     "text": [
      "9\n"
     ]
    }
   ],
   "source": [
    "#Another method to get the higests scores get highest and select one at random\n",
    "\n",
    "def get_highest_score_2(score_list):\n",
    "    # Find the highest score\n",
    "    max_score = max(entry['score'] for entry in score_list)\n",
    "    # Filter the list to include only entries with the highest score\n",
    "    highest_score_entries = [entry for entry in score_list if entry['score'] == max_score]\n",
    "    #Select one at random\n",
    "    random_score = random.sample(highest_score_entries,1)[0]\n",
    "    return random_score['idx']\n",
    "\n",
    "print(get_highest_score_2(similarity_scores))"
   ]
  },
  {
   "cell_type": "code",
   "execution_count": 157,
   "id": "500d51e8",
   "metadata": {},
   "outputs": [
    {
     "name": "stdout",
     "output_type": "stream",
     "text": [
      "MAX DEPTH REACHED\n",
      "{'idx': 3, 'score': 32}\n"
     ]
    }
   ],
   "source": [
    "#Recursivley process start state changing the best known tile to see if it reaches the soltuion\n",
    "\n",
    "def solve_gem_puzzle(start_grid,end_grid,best_score={'idx':-1,'score':0},steps=[],depth=0):\n",
    "    if depth == 100:\n",
    "        print('MAX DEPTH REACHED')\n",
    "        return steps, best_score\n",
    "    #Check to see if solution is reached\n",
    "    if get_similarity_score(start_grid,end_grid) == len(start_grid):\n",
    "        return steps, best_score\n",
    "    #Get the similarity scores for each possible flip\n",
    "    scores = get_similarity_scores_for_grid(start_grid,end_grid)\n",
    "    highest_score_idx = get_highest_score_2(scores)\n",
    "    \n",
    "    #Track the best score\n",
    "    new_best_score = best_score\n",
    "    if scores[highest_score_idx]['score'] > best_score['score']:\n",
    "        new_best_score = {'idx':depth,'score': scores[highest_score_idx]['score']}\n",
    "    \n",
    "    next_grid = flip_gems(start_grid[highest_score_idx],start_grid)\n",
    "    new_depth = depth+1\n",
    "    steps.append({\n",
    "        'index' : highest_score_idx,\n",
    "        'grid' : next_grid\n",
    "    })\n",
    "    return solve_gem_puzzle(next_grid,end_grid,new_best_score,steps,new_depth)\n",
    "\n",
    "steps_to_solution, best_score = solve_gem_puzzle(first_grid,last_grid)\n",
    "print(best_score)"
   ]
  },
  {
   "cell_type": "code",
   "execution_count": 158,
   "id": "5eefe8d5",
   "metadata": {},
   "outputs": [],
   "source": [
    "#Compare the last step to the best it has scored\n",
    "draw_gem_grid(steps_to_solution[3]['grid'],square_size,image)\n",
    "draw_gem_grid(last_grid,square_size,image)"
   ]
  },
  {
   "cell_type": "code",
   "execution_count": 151,
   "id": "a8a2e84e",
   "metadata": {},
   "outputs": [],
   "source": [
    "#Compare with the acutual solution\n",
    "draw_gem_grid(steps_to_solution[1]['grid'],square_size,image)\n",
    "draw_gem_grid(gem_seq[2],square_size,image)\n",
    "draw_gem_grid(last_grid,square_size,image)"
   ]
  },
  {
   "cell_type": "code",
   "execution_count": null,
   "id": "3bf8a176",
   "metadata": {},
   "outputs": [],
   "source": []
  }
 ],
 "metadata": {
  "kernelspec": {
   "display_name": "Python 3 (ipykernel)",
   "language": "python",
   "name": "python3"
  },
  "language_info": {
   "codemirror_mode": {
    "name": "ipython",
    "version": 3
   },
   "file_extension": ".py",
   "mimetype": "text/x-python",
   "name": "python",
   "nbconvert_exporter": "python",
   "pygments_lexer": "ipython3",
   "version": "3.11.4"
  }
 },
 "nbformat": 4,
 "nbformat_minor": 5
}
