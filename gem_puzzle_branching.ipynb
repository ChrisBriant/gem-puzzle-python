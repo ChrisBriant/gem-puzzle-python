{
 "cells": [
  {
   "cell_type": "markdown",
   "id": "01bb9449",
   "metadata": {},
   "source": [
    "# Gem Puzzle\n",
    "\n",
    "## A project to create a puzzle where the user clicks on a gem which changes it color in a sequence of two steps and the surrounding gems by one.\n",
    "\n",
    "## This version will try a branching search to solve the puzzle"
   ]
  },
  {
   "cell_type": "code",
   "execution_count": 1,
   "id": "5f6e7217",
   "metadata": {},
   "outputs": [],
   "source": [
    "#imports\n",
    "import matplotlib.pyplot as plt\n",
    "from PIL import Image, ImageDraw\n",
    "import numpy as np\n",
    "import random,copy"
   ]
  },
  {
   "cell_type": "code",
   "execution_count": 2,
   "id": "891ff765",
   "metadata": {},
   "outputs": [],
   "source": [
    "# Create a new image with a white background\n",
    "image = Image.new(\"RGB\", (200, 200), \"#fff\")\n",
    "draw = ImageDraw.Draw(image)\n",
    "\n",
    "# Draw a colored square at coordinates (0, 0)\n",
    "square_size = 50\n",
    "x0, y0 = 0, 0\n",
    "x1, y1 = x0 + square_size, y0 + square_size\n",
    "draw.rectangle([x0, y0, x1, y1], outline=\"black\", fill=\"#388c4c\")\n",
    "\n",
    "# Display the image\n",
    "image.show()"
   ]
  },
  {
   "cell_type": "markdown",
   "id": "16f7f469",
   "metadata": {},
   "source": [
    "### Setup a color sequence and generate a grid"
   ]
  },
  {
   "cell_type": "code",
   "execution_count": 3,
   "id": "6de1621c",
   "metadata": {},
   "outputs": [],
   "source": [
    "#Setup the possible colors\n",
    "available_colors = [\"#20c91a\",\"#c9c91a\",\"#c9831a\",\"#c9371a\",\"#1a5dc9\",\"#831ac9\",\"#c91a9a\"]\n",
    "\n",
    "color_sequence = random.sample(available_colors,len(available_colors))\n",
    "\n",
    "        "
   ]
  },
  {
   "cell_type": "code",
   "execution_count": 4,
   "id": "58435432",
   "metadata": {},
   "outputs": [],
   "source": [
    "#Configure the grid size\n",
    "grid_width = 6\n",
    "grid_height = 6"
   ]
  },
  {
   "cell_type": "code",
   "execution_count": 5,
   "id": "1b4fea7f",
   "metadata": {},
   "outputs": [
    {
     "name": "stdout",
     "output_type": "stream",
     "text": [
      "[{'color': '#20c91a', 'index': 0, 'grid_x': 0, 'grid_y': 0}, {'color': '#20c91a', 'index': 1, 'grid_x': 1, 'grid_y': 0}, {'color': '#20c91a', 'index': 2, 'grid_x': 2, 'grid_y': 0}, {'color': '#20c91a', 'index': 3, 'grid_x': 3, 'grid_y': 0}, {'color': '#20c91a', 'index': 4, 'grid_x': 4, 'grid_y': 0}, {'color': '#20c91a', 'index': 5, 'grid_x': 5, 'grid_y': 0}, {'color': '#20c91a', 'index': 6, 'grid_x': 0, 'grid_y': 1}, {'color': '#20c91a', 'index': 7, 'grid_x': 1, 'grid_y': 1}, {'color': '#20c91a', 'index': 8, 'grid_x': 2, 'grid_y': 1}, {'color': '#20c91a', 'index': 9, 'grid_x': 3, 'grid_y': 1}, {'color': '#20c91a', 'index': 10, 'grid_x': 4, 'grid_y': 1}, {'color': '#20c91a', 'index': 11, 'grid_x': 5, 'grid_y': 1}, {'color': '#20c91a', 'index': 12, 'grid_x': 0, 'grid_y': 2}, {'color': '#20c91a', 'index': 13, 'grid_x': 1, 'grid_y': 2}, {'color': '#20c91a', 'index': 14, 'grid_x': 2, 'grid_y': 2}, {'color': '#20c91a', 'index': 15, 'grid_x': 3, 'grid_y': 2}, {'color': '#20c91a', 'index': 16, 'grid_x': 4, 'grid_y': 2}, {'color': '#20c91a', 'index': 17, 'grid_x': 5, 'grid_y': 2}, {'color': '#20c91a', 'index': 18, 'grid_x': 0, 'grid_y': 3}, {'color': '#20c91a', 'index': 19, 'grid_x': 1, 'grid_y': 3}, {'color': '#20c91a', 'index': 20, 'grid_x': 2, 'grid_y': 3}, {'color': '#20c91a', 'index': 21, 'grid_x': 3, 'grid_y': 3}, {'color': '#20c91a', 'index': 22, 'grid_x': 4, 'grid_y': 3}, {'color': '#20c91a', 'index': 23, 'grid_x': 5, 'grid_y': 3}, {'color': '#20c91a', 'index': 24, 'grid_x': 0, 'grid_y': 4}, {'color': '#20c91a', 'index': 25, 'grid_x': 1, 'grid_y': 4}, {'color': '#20c91a', 'index': 26, 'grid_x': 2, 'grid_y': 4}, {'color': '#20c91a', 'index': 27, 'grid_x': 3, 'grid_y': 4}, {'color': '#20c91a', 'index': 28, 'grid_x': 4, 'grid_y': 4}, {'color': '#20c91a', 'index': 29, 'grid_x': 5, 'grid_y': 4}, {'color': '#20c91a', 'index': 30, 'grid_x': 0, 'grid_y': 5}, {'color': '#20c91a', 'index': 31, 'grid_x': 1, 'grid_y': 5}, {'color': '#20c91a', 'index': 32, 'grid_x': 2, 'grid_y': 5}, {'color': '#20c91a', 'index': 33, 'grid_x': 3, 'grid_y': 5}, {'color': '#20c91a', 'index': 34, 'grid_x': 4, 'grid_y': 5}, {'color': '#20c91a', 'index': 35, 'grid_x': 5, 'grid_y': 5}]\n"
     ]
    }
   ],
   "source": [
    "#Set up grid start state with a randomly selected color\n",
    "\n",
    "random_color = random.sample(color_sequence,1)[0]\n",
    "grid = []\n",
    "\n",
    "for i in range(0,grid_width * grid_height):  \n",
    "    grid.append({\n",
    "        \"color\" : random_color,\n",
    "        \"index\" : i,\n",
    "        \"grid_x\" : i % grid_width, \n",
    "        \"grid_y\" :i // grid_width,\n",
    "    })\n",
    "    \n",
    "print(grid)"
   ]
  },
  {
   "cell_type": "code",
   "execution_count": 6,
   "id": "12f7207f",
   "metadata": {},
   "outputs": [
    {
     "name": "stdout",
     "output_type": "stream",
     "text": [
      "[1, 6, 7]\n",
      "[5, 10, 3, 11, 9]\n",
      "[11, 4, 10]\n",
      "[8, 15, 20, 13, 21, 9, 7, 19]\n"
     ]
    }
   ],
   "source": [
    "#Gets all of the surrounding indicies of a given grid coordinate \n",
    "\n",
    "def get_surrounding_indices(grid_width, grid_height, grid_x, grid_y):\n",
    "    adjacent_indices = []\n",
    "\n",
    "    # Define relative positions of adjacent cells (including diagonals)\n",
    "    relative_positions = [\n",
    "        (0, -1), (1, 0), (0, 1), (-1, 0),\n",
    "        (1, 1), (1, -1), (-1, -1), (-1, 1)\n",
    "    ]\n",
    "\n",
    "    for dx, dy in relative_positions:\n",
    "        new_grid_x = grid_x + dx\n",
    "        new_grid_y = grid_y + dy\n",
    "\n",
    "        # Check if the new coordinates are within bounds\n",
    "        if 0 <= new_grid_x < grid_width and 0 <= new_grid_y < grid_height:\n",
    "            adjacent_index = new_grid_y * grid_width + new_grid_x\n",
    "            adjacent_indices.append(adjacent_index)\n",
    "\n",
    "    return adjacent_indices\n",
    "\n",
    "surrounding_1 = get_surrounding_indices(grid_width,grid_height,grid[0]['grid_x'],grid[0]['grid_y'])\n",
    "surrounding_2 = get_surrounding_indices(grid_width,grid_height,grid[4]['grid_x'],grid[4]['grid_y'])\n",
    "surrounding_3 = get_surrounding_indices(grid_width,grid_height,grid[5]['grid_x'],grid[5]['grid_y'])\n",
    "surrounding_4 = get_surrounding_indices(grid_width,grid_height,grid[14]['grid_x'],grid[14]['grid_y'])\n",
    "\n",
    "print(surrounding_1)\n",
    "print(surrounding_2)\n",
    "print(surrounding_3)\n",
    "print(surrounding_4)"
   ]
  },
  {
   "cell_type": "markdown",
   "id": "888e3147",
   "metadata": {},
   "source": [
    "### Displaying the Grid"
   ]
  },
  {
   "cell_type": "code",
   "execution_count": 7,
   "id": "b93c8ae1",
   "metadata": {},
   "outputs": [],
   "source": [
    "#Set up the image size\n",
    "\n",
    "square_size = 32\n",
    "\n",
    "# Create a new image with a white background\n",
    "image = Image.new(\"RGB\", (grid_width * square_size, grid_height * square_size), \"#fff\")\n",
    "draw = ImageDraw.Draw(image)"
   ]
  },
  {
   "cell_type": "code",
   "execution_count": 8,
   "id": "c86e6017",
   "metadata": {},
   "outputs": [],
   "source": [
    "#Draw the grid\n",
    "def draw_gem_grid(grid,square_size,img):\n",
    "    for gem in grid:\n",
    "        x1 = gem['grid_x']*square_size\n",
    "        y1 = gem['grid_y']*square_size\n",
    "        x2 = (gem['grid_x']*square_size) + square_size\n",
    "        y2 = (gem['grid_y']*square_size) + square_size\n",
    "        draw.rectangle([x1,y1, x2, y2], outline=\"black\", fill=gem['color'])\n",
    "\n",
    "    # Display the image\n",
    "    img.show()"
   ]
  },
  {
   "cell_type": "code",
   "execution_count": 9,
   "id": "11c1b8a2",
   "metadata": {},
   "outputs": [
    {
     "name": "stdout",
     "output_type": "stream",
     "text": [
      "#1a5dc9 #c9c91a\n"
     ]
    }
   ],
   "source": [
    "#Select a random gem from the grid and change it's color\n",
    "\n",
    "selected_gem = random.sample(grid,1)[0]\n",
    "#Get the index of the selected color\n",
    "\n",
    "#color_idx = 1\n",
    "\n",
    "#print(selected_gem['color'],color_idx, len(color_sequence))\n",
    "\n",
    "def get_next_color(color_sequence,gem,step):\n",
    "    color_idx = color_sequence.index(gem['color'])\n",
    "    #next_color_idx = (color_idx + 2) % (len(color_sequence) + 1)\n",
    "    next_color_idx = color_idx + step\n",
    "    if next_color_idx > len(color_sequence) - 1:\n",
    "        next_color_idx = next_color_idx % len(color_sequence)\n",
    "    return color_sequence[next_color_idx]\n",
    "\n",
    "middle_gem_color = get_next_color(color_sequence,selected_gem,2)\n",
    "surrounding_gem_color = get_next_color(color_sequence,selected_gem,1)\n",
    "\n",
    "print(middle_gem_color,surrounding_gem_color)"
   ]
  },
  {
   "cell_type": "code",
   "execution_count": 10,
   "id": "d144690d",
   "metadata": {},
   "outputs": [
    {
     "data": {
      "text/plain": [
       "['#c91a9a', '#c9371a', '#c9831a', '#831ac9', '#20c91a', '#c9c91a', '#1a5dc9']"
      ]
     },
     "execution_count": 10,
     "metadata": {},
     "output_type": "execute_result"
    }
   ],
   "source": [
    "#Display the color sequence\n",
    "color_sequence"
   ]
  },
  {
   "cell_type": "code",
   "execution_count": 11,
   "id": "8a484e29",
   "metadata": {},
   "outputs": [],
   "source": [
    "#Modify the Grid with the next colors\n",
    "selected_gem = random.sample(grid,1)[0]\n",
    "\n",
    "def flip_gems(gem,grid):\n",
    "    new_grid = copy.deepcopy(grid)  \n",
    "    #Get the middle gem color and change the gem in the grid\n",
    "    middle_color = get_next_color(color_sequence,gem,2)\n",
    "    new_grid[gem['index']]['color'] = middle_color\n",
    "    #Get the surrounding gem indicies\n",
    "    surrdounding_indicies = get_surrounding_indices(grid_width,grid_height,gem['grid_x'],gem['grid_y'])\n",
    "    surrounding_color = get_next_color(color_sequence,gem,1)\n",
    "    for idx in surrdounding_indicies:\n",
    "        new_grid[idx]['color'] = surrounding_color\n",
    "    return new_grid\n",
    "    \n",
    "    \n",
    "    \n",
    "next_grid = flip_gems(selected_gem,grid)\n",
    "\n",
    "#Output the flipped grid\n",
    "draw_gem_grid(next_grid,square_size,image)"
   ]
  },
  {
   "cell_type": "code",
   "execution_count": 38,
   "id": "84d47d40",
   "metadata": {},
   "outputs": [
    {
     "name": "stdout",
     "output_type": "stream",
     "text": [
      "[[{'color': '#20c91a', 'index': 0, 'grid_x': 0, 'grid_y': 0}, {'color': '#20c91a', 'index': 1, 'grid_x': 1, 'grid_y': 0}, {'color': '#20c91a', 'index': 2, 'grid_x': 2, 'grid_y': 0}, {'color': '#20c91a', 'index': 3, 'grid_x': 3, 'grid_y': 0}, {'color': '#20c91a', 'index': 4, 'grid_x': 4, 'grid_y': 0}, {'color': '#20c91a', 'index': 5, 'grid_x': 5, 'grid_y': 0}, {'color': '#20c91a', 'index': 6, 'grid_x': 0, 'grid_y': 1}, {'color': '#20c91a', 'index': 7, 'grid_x': 1, 'grid_y': 1}, {'color': '#20c91a', 'index': 8, 'grid_x': 2, 'grid_y': 1}, {'color': '#20c91a', 'index': 9, 'grid_x': 3, 'grid_y': 1}, {'color': '#20c91a', 'index': 10, 'grid_x': 4, 'grid_y': 1}, {'color': '#20c91a', 'index': 11, 'grid_x': 5, 'grid_y': 1}, {'color': '#20c91a', 'index': 12, 'grid_x': 0, 'grid_y': 2}, {'color': '#20c91a', 'index': 13, 'grid_x': 1, 'grid_y': 2}, {'color': '#20c91a', 'index': 14, 'grid_x': 2, 'grid_y': 2}, {'color': '#20c91a', 'index': 15, 'grid_x': 3, 'grid_y': 2}, {'color': '#20c91a', 'index': 16, 'grid_x': 4, 'grid_y': 2}, {'color': '#20c91a', 'index': 17, 'grid_x': 5, 'grid_y': 2}, {'color': '#20c91a', 'index': 18, 'grid_x': 0, 'grid_y': 3}, {'color': '#20c91a', 'index': 19, 'grid_x': 1, 'grid_y': 3}, {'color': '#20c91a', 'index': 20, 'grid_x': 2, 'grid_y': 3}, {'color': '#20c91a', 'index': 21, 'grid_x': 3, 'grid_y': 3}, {'color': '#20c91a', 'index': 22, 'grid_x': 4, 'grid_y': 3}, {'color': '#20c91a', 'index': 23, 'grid_x': 5, 'grid_y': 3}, {'color': '#20c91a', 'index': 24, 'grid_x': 0, 'grid_y': 4}, {'color': '#20c91a', 'index': 25, 'grid_x': 1, 'grid_y': 4}, {'color': '#20c91a', 'index': 26, 'grid_x': 2, 'grid_y': 4}, {'color': '#20c91a', 'index': 27, 'grid_x': 3, 'grid_y': 4}, {'color': '#20c91a', 'index': 28, 'grid_x': 4, 'grid_y': 4}, {'color': '#20c91a', 'index': 29, 'grid_x': 5, 'grid_y': 4}, {'color': '#20c91a', 'index': 30, 'grid_x': 0, 'grid_y': 5}, {'color': '#20c91a', 'index': 31, 'grid_x': 1, 'grid_y': 5}, {'color': '#20c91a', 'index': 32, 'grid_x': 2, 'grid_y': 5}, {'color': '#20c91a', 'index': 33, 'grid_x': 3, 'grid_y': 5}, {'color': '#20c91a', 'index': 34, 'grid_x': 4, 'grid_y': 5}, {'color': '#20c91a', 'index': 35, 'grid_x': 5, 'grid_y': 5}], [{'color': '#20c91a', 'index': 0, 'grid_x': 0, 'grid_y': 0}, {'color': '#20c91a', 'index': 1, 'grid_x': 1, 'grid_y': 0}, {'color': '#20c91a', 'index': 2, 'grid_x': 2, 'grid_y': 0}, {'color': '#20c91a', 'index': 3, 'grid_x': 3, 'grid_y': 0}, {'color': '#20c91a', 'index': 4, 'grid_x': 4, 'grid_y': 0}, {'color': '#20c91a', 'index': 5, 'grid_x': 5, 'grid_y': 0}, {'color': '#20c91a', 'index': 6, 'grid_x': 0, 'grid_y': 1}, {'color': '#20c91a', 'index': 7, 'grid_x': 1, 'grid_y': 1}, {'color': '#20c91a', 'index': 8, 'grid_x': 2, 'grid_y': 1}, {'color': '#20c91a', 'index': 9, 'grid_x': 3, 'grid_y': 1}, {'color': '#20c91a', 'index': 10, 'grid_x': 4, 'grid_y': 1}, {'color': '#20c91a', 'index': 11, 'grid_x': 5, 'grid_y': 1}, {'color': '#20c91a', 'index': 12, 'grid_x': 0, 'grid_y': 2}, {'color': '#20c91a', 'index': 13, 'grid_x': 1, 'grid_y': 2}, {'color': '#20c91a', 'index': 14, 'grid_x': 2, 'grid_y': 2}, {'color': '#20c91a', 'index': 15, 'grid_x': 3, 'grid_y': 2}, {'color': '#20c91a', 'index': 16, 'grid_x': 4, 'grid_y': 2}, {'color': '#20c91a', 'index': 17, 'grid_x': 5, 'grid_y': 2}, {'color': '#20c91a', 'index': 18, 'grid_x': 0, 'grid_y': 3}, {'color': '#20c91a', 'index': 19, 'grid_x': 1, 'grid_y': 3}, {'color': '#c9c91a', 'index': 20, 'grid_x': 2, 'grid_y': 3}, {'color': '#c9c91a', 'index': 21, 'grid_x': 3, 'grid_y': 3}, {'color': '#c9c91a', 'index': 22, 'grid_x': 4, 'grid_y': 3}, {'color': '#20c91a', 'index': 23, 'grid_x': 5, 'grid_y': 3}, {'color': '#20c91a', 'index': 24, 'grid_x': 0, 'grid_y': 4}, {'color': '#20c91a', 'index': 25, 'grid_x': 1, 'grid_y': 4}, {'color': '#c9c91a', 'index': 26, 'grid_x': 2, 'grid_y': 4}, {'color': '#1a5dc9', 'index': 27, 'grid_x': 3, 'grid_y': 4}, {'color': '#c9c91a', 'index': 28, 'grid_x': 4, 'grid_y': 4}, {'color': '#20c91a', 'index': 29, 'grid_x': 5, 'grid_y': 4}, {'color': '#20c91a', 'index': 30, 'grid_x': 0, 'grid_y': 5}, {'color': '#20c91a', 'index': 31, 'grid_x': 1, 'grid_y': 5}, {'color': '#c9c91a', 'index': 32, 'grid_x': 2, 'grid_y': 5}, {'color': '#c9c91a', 'index': 33, 'grid_x': 3, 'grid_y': 5}, {'color': '#c9c91a', 'index': 34, 'grid_x': 4, 'grid_y': 5}, {'color': '#20c91a', 'index': 35, 'grid_x': 5, 'grid_y': 5}], [{'color': '#20c91a', 'index': 0, 'grid_x': 0, 'grid_y': 0}, {'color': '#20c91a', 'index': 1, 'grid_x': 1, 'grid_y': 0}, {'color': '#20c91a', 'index': 2, 'grid_x': 2, 'grid_y': 0}, {'color': '#20c91a', 'index': 3, 'grid_x': 3, 'grid_y': 0}, {'color': '#20c91a', 'index': 4, 'grid_x': 4, 'grid_y': 0}, {'color': '#20c91a', 'index': 5, 'grid_x': 5, 'grid_y': 0}, {'color': '#20c91a', 'index': 6, 'grid_x': 0, 'grid_y': 1}, {'color': '#20c91a', 'index': 7, 'grid_x': 1, 'grid_y': 1}, {'color': '#20c91a', 'index': 8, 'grid_x': 2, 'grid_y': 1}, {'color': '#20c91a', 'index': 9, 'grid_x': 3, 'grid_y': 1}, {'color': '#20c91a', 'index': 10, 'grid_x': 4, 'grid_y': 1}, {'color': '#20c91a', 'index': 11, 'grid_x': 5, 'grid_y': 1}, {'color': '#20c91a', 'index': 12, 'grid_x': 0, 'grid_y': 2}, {'color': '#20c91a', 'index': 13, 'grid_x': 1, 'grid_y': 2}, {'color': '#20c91a', 'index': 14, 'grid_x': 2, 'grid_y': 2}, {'color': '#20c91a', 'index': 15, 'grid_x': 3, 'grid_y': 2}, {'color': '#20c91a', 'index': 16, 'grid_x': 4, 'grid_y': 2}, {'color': '#20c91a', 'index': 17, 'grid_x': 5, 'grid_y': 2}, {'color': '#c9c91a', 'index': 18, 'grid_x': 0, 'grid_y': 3}, {'color': '#c9c91a', 'index': 19, 'grid_x': 1, 'grid_y': 3}, {'color': '#c9c91a', 'index': 20, 'grid_x': 2, 'grid_y': 3}, {'color': '#c9c91a', 'index': 21, 'grid_x': 3, 'grid_y': 3}, {'color': '#c9c91a', 'index': 22, 'grid_x': 4, 'grid_y': 3}, {'color': '#20c91a', 'index': 23, 'grid_x': 5, 'grid_y': 3}, {'color': '#c9c91a', 'index': 24, 'grid_x': 0, 'grid_y': 4}, {'color': '#1a5dc9', 'index': 25, 'grid_x': 1, 'grid_y': 4}, {'color': '#c9c91a', 'index': 26, 'grid_x': 2, 'grid_y': 4}, {'color': '#1a5dc9', 'index': 27, 'grid_x': 3, 'grid_y': 4}, {'color': '#c9c91a', 'index': 28, 'grid_x': 4, 'grid_y': 4}, {'color': '#20c91a', 'index': 29, 'grid_x': 5, 'grid_y': 4}, {'color': '#c9c91a', 'index': 30, 'grid_x': 0, 'grid_y': 5}, {'color': '#c9c91a', 'index': 31, 'grid_x': 1, 'grid_y': 5}, {'color': '#c9c91a', 'index': 32, 'grid_x': 2, 'grid_y': 5}, {'color': '#c9c91a', 'index': 33, 'grid_x': 3, 'grid_y': 5}, {'color': '#c9c91a', 'index': 34, 'grid_x': 4, 'grid_y': 5}, {'color': '#20c91a', 'index': 35, 'grid_x': 5, 'grid_y': 5}], [{'color': '#20c91a', 'index': 0, 'grid_x': 0, 'grid_y': 0}, {'color': '#20c91a', 'index': 1, 'grid_x': 1, 'grid_y': 0}, {'color': '#20c91a', 'index': 2, 'grid_x': 2, 'grid_y': 0}, {'color': '#20c91a', 'index': 3, 'grid_x': 3, 'grid_y': 0}, {'color': '#20c91a', 'index': 4, 'grid_x': 4, 'grid_y': 0}, {'color': '#20c91a', 'index': 5, 'grid_x': 5, 'grid_y': 0}, {'color': '#20c91a', 'index': 6, 'grid_x': 0, 'grid_y': 1}, {'color': '#20c91a', 'index': 7, 'grid_x': 1, 'grid_y': 1}, {'color': '#20c91a', 'index': 8, 'grid_x': 2, 'grid_y': 1}, {'color': '#20c91a', 'index': 9, 'grid_x': 3, 'grid_y': 1}, {'color': '#20c91a', 'index': 10, 'grid_x': 4, 'grid_y': 1}, {'color': '#20c91a', 'index': 11, 'grid_x': 5, 'grid_y': 1}, {'color': '#20c91a', 'index': 12, 'grid_x': 0, 'grid_y': 2}, {'color': '#20c91a', 'index': 13, 'grid_x': 1, 'grid_y': 2}, {'color': '#20c91a', 'index': 14, 'grid_x': 2, 'grid_y': 2}, {'color': '#20c91a', 'index': 15, 'grid_x': 3, 'grid_y': 2}, {'color': '#20c91a', 'index': 16, 'grid_x': 4, 'grid_y': 2}, {'color': '#20c91a', 'index': 17, 'grid_x': 5, 'grid_y': 2}, {'color': '#c9c91a', 'index': 18, 'grid_x': 0, 'grid_y': 3}, {'color': '#1a5dc9', 'index': 19, 'grid_x': 1, 'grid_y': 3}, {'color': '#1a5dc9', 'index': 20, 'grid_x': 2, 'grid_y': 3}, {'color': '#1a5dc9', 'index': 21, 'grid_x': 3, 'grid_y': 3}, {'color': '#c9c91a', 'index': 22, 'grid_x': 4, 'grid_y': 3}, {'color': '#20c91a', 'index': 23, 'grid_x': 5, 'grid_y': 3}, {'color': '#c9c91a', 'index': 24, 'grid_x': 0, 'grid_y': 4}, {'color': '#1a5dc9', 'index': 25, 'grid_x': 1, 'grid_y': 4}, {'color': '#c91a9a', 'index': 26, 'grid_x': 2, 'grid_y': 4}, {'color': '#1a5dc9', 'index': 27, 'grid_x': 3, 'grid_y': 4}, {'color': '#c9c91a', 'index': 28, 'grid_x': 4, 'grid_y': 4}, {'color': '#20c91a', 'index': 29, 'grid_x': 5, 'grid_y': 4}, {'color': '#c9c91a', 'index': 30, 'grid_x': 0, 'grid_y': 5}, {'color': '#1a5dc9', 'index': 31, 'grid_x': 1, 'grid_y': 5}, {'color': '#1a5dc9', 'index': 32, 'grid_x': 2, 'grid_y': 5}, {'color': '#1a5dc9', 'index': 33, 'grid_x': 3, 'grid_y': 5}, {'color': '#c9c91a', 'index': 34, 'grid_x': 4, 'grid_y': 5}, {'color': '#20c91a', 'index': 35, 'grid_x': 5, 'grid_y': 5}], [{'color': '#20c91a', 'index': 0, 'grid_x': 0, 'grid_y': 0}, {'color': '#20c91a', 'index': 1, 'grid_x': 1, 'grid_y': 0}, {'color': '#20c91a', 'index': 2, 'grid_x': 2, 'grid_y': 0}, {'color': '#20c91a', 'index': 3, 'grid_x': 3, 'grid_y': 0}, {'color': '#20c91a', 'index': 4, 'grid_x': 4, 'grid_y': 0}, {'color': '#20c91a', 'index': 5, 'grid_x': 5, 'grid_y': 0}, {'color': '#20c91a', 'index': 6, 'grid_x': 0, 'grid_y': 1}, {'color': '#20c91a', 'index': 7, 'grid_x': 1, 'grid_y': 1}, {'color': '#20c91a', 'index': 8, 'grid_x': 2, 'grid_y': 1}, {'color': '#20c91a', 'index': 9, 'grid_x': 3, 'grid_y': 1}, {'color': '#20c91a', 'index': 10, 'grid_x': 4, 'grid_y': 1}, {'color': '#20c91a', 'index': 11, 'grid_x': 5, 'grid_y': 1}, {'color': '#20c91a', 'index': 12, 'grid_x': 0, 'grid_y': 2}, {'color': '#20c91a', 'index': 13, 'grid_x': 1, 'grid_y': 2}, {'color': '#20c91a', 'index': 14, 'grid_x': 2, 'grid_y': 2}, {'color': '#20c91a', 'index': 15, 'grid_x': 3, 'grid_y': 2}, {'color': '#20c91a', 'index': 16, 'grid_x': 4, 'grid_y': 2}, {'color': '#20c91a', 'index': 17, 'grid_x': 5, 'grid_y': 2}, {'color': '#c9c91a', 'index': 18, 'grid_x': 0, 'grid_y': 3}, {'color': '#1a5dc9', 'index': 19, 'grid_x': 1, 'grid_y': 3}, {'color': '#1a5dc9', 'index': 20, 'grid_x': 2, 'grid_y': 3}, {'color': '#1a5dc9', 'index': 21, 'grid_x': 3, 'grid_y': 3}, {'color': '#c9c91a', 'index': 22, 'grid_x': 4, 'grid_y': 3}, {'color': '#20c91a', 'index': 23, 'grid_x': 5, 'grid_y': 3}, {'color': '#c9c91a', 'index': 24, 'grid_x': 0, 'grid_y': 4}, {'color': '#1a5dc9', 'index': 25, 'grid_x': 1, 'grid_y': 4}, {'color': '#c91a9a', 'index': 26, 'grid_x': 2, 'grid_y': 4}, {'color': '#1a5dc9', 'index': 27, 'grid_x': 3, 'grid_y': 4}, {'color': '#1a5dc9', 'index': 28, 'grid_x': 4, 'grid_y': 4}, {'color': '#1a5dc9', 'index': 29, 'grid_x': 5, 'grid_y': 4}, {'color': '#c9c91a', 'index': 30, 'grid_x': 0, 'grid_y': 5}, {'color': '#1a5dc9', 'index': 31, 'grid_x': 1, 'grid_y': 5}, {'color': '#1a5dc9', 'index': 32, 'grid_x': 2, 'grid_y': 5}, {'color': '#1a5dc9', 'index': 33, 'grid_x': 3, 'grid_y': 5}, {'color': '#c91a9a', 'index': 34, 'grid_x': 4, 'grid_y': 5}, {'color': '#1a5dc9', 'index': 35, 'grid_x': 5, 'grid_y': 5}], [{'color': '#20c91a', 'index': 0, 'grid_x': 0, 'grid_y': 0}, {'color': '#20c91a', 'index': 1, 'grid_x': 1, 'grid_y': 0}, {'color': '#c9c91a', 'index': 2, 'grid_x': 2, 'grid_y': 0}, {'color': '#c9c91a', 'index': 3, 'grid_x': 3, 'grid_y': 0}, {'color': '#c9c91a', 'index': 4, 'grid_x': 4, 'grid_y': 0}, {'color': '#20c91a', 'index': 5, 'grid_x': 5, 'grid_y': 0}, {'color': '#20c91a', 'index': 6, 'grid_x': 0, 'grid_y': 1}, {'color': '#20c91a', 'index': 7, 'grid_x': 1, 'grid_y': 1}, {'color': '#c9c91a', 'index': 8, 'grid_x': 2, 'grid_y': 1}, {'color': '#1a5dc9', 'index': 9, 'grid_x': 3, 'grid_y': 1}, {'color': '#c9c91a', 'index': 10, 'grid_x': 4, 'grid_y': 1}, {'color': '#20c91a', 'index': 11, 'grid_x': 5, 'grid_y': 1}, {'color': '#20c91a', 'index': 12, 'grid_x': 0, 'grid_y': 2}, {'color': '#20c91a', 'index': 13, 'grid_x': 1, 'grid_y': 2}, {'color': '#c9c91a', 'index': 14, 'grid_x': 2, 'grid_y': 2}, {'color': '#c9c91a', 'index': 15, 'grid_x': 3, 'grid_y': 2}, {'color': '#c9c91a', 'index': 16, 'grid_x': 4, 'grid_y': 2}, {'color': '#20c91a', 'index': 17, 'grid_x': 5, 'grid_y': 2}, {'color': '#c9c91a', 'index': 18, 'grid_x': 0, 'grid_y': 3}, {'color': '#1a5dc9', 'index': 19, 'grid_x': 1, 'grid_y': 3}, {'color': '#1a5dc9', 'index': 20, 'grid_x': 2, 'grid_y': 3}, {'color': '#1a5dc9', 'index': 21, 'grid_x': 3, 'grid_y': 3}, {'color': '#c9c91a', 'index': 22, 'grid_x': 4, 'grid_y': 3}, {'color': '#20c91a', 'index': 23, 'grid_x': 5, 'grid_y': 3}, {'color': '#c9c91a', 'index': 24, 'grid_x': 0, 'grid_y': 4}, {'color': '#1a5dc9', 'index': 25, 'grid_x': 1, 'grid_y': 4}, {'color': '#c91a9a', 'index': 26, 'grid_x': 2, 'grid_y': 4}, {'color': '#1a5dc9', 'index': 27, 'grid_x': 3, 'grid_y': 4}, {'color': '#1a5dc9', 'index': 28, 'grid_x': 4, 'grid_y': 4}, {'color': '#1a5dc9', 'index': 29, 'grid_x': 5, 'grid_y': 4}, {'color': '#c9c91a', 'index': 30, 'grid_x': 0, 'grid_y': 5}, {'color': '#1a5dc9', 'index': 31, 'grid_x': 1, 'grid_y': 5}, {'color': '#1a5dc9', 'index': 32, 'grid_x': 2, 'grid_y': 5}, {'color': '#1a5dc9', 'index': 33, 'grid_x': 3, 'grid_y': 5}, {'color': '#c91a9a', 'index': 34, 'grid_x': 4, 'grid_y': 5}, {'color': '#1a5dc9', 'index': 35, 'grid_x': 5, 'grid_y': 5}], [{'color': '#20c91a', 'index': 0, 'grid_x': 0, 'grid_y': 0}, {'color': '#20c91a', 'index': 1, 'grid_x': 1, 'grid_y': 0}, {'color': '#c9c91a', 'index': 2, 'grid_x': 2, 'grid_y': 0}, {'color': '#c9c91a', 'index': 3, 'grid_x': 3, 'grid_y': 0}, {'color': '#c9c91a', 'index': 4, 'grid_x': 4, 'grid_y': 0}, {'color': '#20c91a', 'index': 5, 'grid_x': 5, 'grid_y': 0}, {'color': '#20c91a', 'index': 6, 'grid_x': 0, 'grid_y': 1}, {'color': '#20c91a', 'index': 7, 'grid_x': 1, 'grid_y': 1}, {'color': '#c9c91a', 'index': 8, 'grid_x': 2, 'grid_y': 1}, {'color': '#1a5dc9', 'index': 9, 'grid_x': 3, 'grid_y': 1}, {'color': '#c9c91a', 'index': 10, 'grid_x': 4, 'grid_y': 1}, {'color': '#20c91a', 'index': 11, 'grid_x': 5, 'grid_y': 1}, {'color': '#20c91a', 'index': 12, 'grid_x': 0, 'grid_y': 2}, {'color': '#20c91a', 'index': 13, 'grid_x': 1, 'grid_y': 2}, {'color': '#c9c91a', 'index': 14, 'grid_x': 2, 'grid_y': 2}, {'color': '#c9c91a', 'index': 15, 'grid_x': 3, 'grid_y': 2}, {'color': '#c9c91a', 'index': 16, 'grid_x': 4, 'grid_y': 2}, {'color': '#20c91a', 'index': 17, 'grid_x': 5, 'grid_y': 2}, {'color': '#c9c91a', 'index': 18, 'grid_x': 0, 'grid_y': 3}, {'color': '#c9371a', 'index': 19, 'grid_x': 1, 'grid_y': 3}, {'color': '#c9371a', 'index': 20, 'grid_x': 2, 'grid_y': 3}, {'color': '#c9371a', 'index': 21, 'grid_x': 3, 'grid_y': 3}, {'color': '#c9c91a', 'index': 22, 'grid_x': 4, 'grid_y': 3}, {'color': '#20c91a', 'index': 23, 'grid_x': 5, 'grid_y': 3}, {'color': '#c9c91a', 'index': 24, 'grid_x': 0, 'grid_y': 4}, {'color': '#c9371a', 'index': 25, 'grid_x': 1, 'grid_y': 4}, {'color': '#c9831a', 'index': 26, 'grid_x': 2, 'grid_y': 4}, {'color': '#c9371a', 'index': 27, 'grid_x': 3, 'grid_y': 4}, {'color': '#1a5dc9', 'index': 28, 'grid_x': 4, 'grid_y': 4}, {'color': '#1a5dc9', 'index': 29, 'grid_x': 5, 'grid_y': 4}, {'color': '#c9c91a', 'index': 30, 'grid_x': 0, 'grid_y': 5}, {'color': '#c9371a', 'index': 31, 'grid_x': 1, 'grid_y': 5}, {'color': '#c9371a', 'index': 32, 'grid_x': 2, 'grid_y': 5}, {'color': '#c9371a', 'index': 33, 'grid_x': 3, 'grid_y': 5}, {'color': '#c91a9a', 'index': 34, 'grid_x': 4, 'grid_y': 5}, {'color': '#1a5dc9', 'index': 35, 'grid_x': 5, 'grid_y': 5}], [{'color': '#20c91a', 'index': 0, 'grid_x': 0, 'grid_y': 0}, {'color': '#20c91a', 'index': 1, 'grid_x': 1, 'grid_y': 0}, {'color': '#c9c91a', 'index': 2, 'grid_x': 2, 'grid_y': 0}, {'color': '#c9c91a', 'index': 3, 'grid_x': 3, 'grid_y': 0}, {'color': '#c9c91a', 'index': 4, 'grid_x': 4, 'grid_y': 0}, {'color': '#20c91a', 'index': 5, 'grid_x': 5, 'grid_y': 0}, {'color': '#20c91a', 'index': 6, 'grid_x': 0, 'grid_y': 1}, {'color': '#20c91a', 'index': 7, 'grid_x': 1, 'grid_y': 1}, {'color': '#c9c91a', 'index': 8, 'grid_x': 2, 'grid_y': 1}, {'color': '#1a5dc9', 'index': 9, 'grid_x': 3, 'grid_y': 1}, {'color': '#c9c91a', 'index': 10, 'grid_x': 4, 'grid_y': 1}, {'color': '#20c91a', 'index': 11, 'grid_x': 5, 'grid_y': 1}, {'color': '#20c91a', 'index': 12, 'grid_x': 0, 'grid_y': 2}, {'color': '#20c91a', 'index': 13, 'grid_x': 1, 'grid_y': 2}, {'color': '#c9c91a', 'index': 14, 'grid_x': 2, 'grid_y': 2}, {'color': '#c9c91a', 'index': 15, 'grid_x': 3, 'grid_y': 2}, {'color': '#c9c91a', 'index': 16, 'grid_x': 4, 'grid_y': 2}, {'color': '#20c91a', 'index': 17, 'grid_x': 5, 'grid_y': 2}, {'color': '#c9c91a', 'index': 18, 'grid_x': 0, 'grid_y': 3}, {'color': '#c9371a', 'index': 19, 'grid_x': 1, 'grid_y': 3}, {'color': '#c9371a', 'index': 20, 'grid_x': 2, 'grid_y': 3}, {'color': '#c9371a', 'index': 21, 'grid_x': 3, 'grid_y': 3}, {'color': '#c9c91a', 'index': 22, 'grid_x': 4, 'grid_y': 3}, {'color': '#20c91a', 'index': 23, 'grid_x': 5, 'grid_y': 3}, {'color': '#c9c91a', 'index': 24, 'grid_x': 0, 'grid_y': 4}, {'color': '#c9831a', 'index': 25, 'grid_x': 1, 'grid_y': 4}, {'color': '#c9831a', 'index': 26, 'grid_x': 2, 'grid_y': 4}, {'color': '#c9831a', 'index': 27, 'grid_x': 3, 'grid_y': 4}, {'color': '#1a5dc9', 'index': 28, 'grid_x': 4, 'grid_y': 4}, {'color': '#1a5dc9', 'index': 29, 'grid_x': 5, 'grid_y': 4}, {'color': '#c9c91a', 'index': 30, 'grid_x': 0, 'grid_y': 5}, {'color': '#c9831a', 'index': 31, 'grid_x': 1, 'grid_y': 5}, {'color': '#831ac9', 'index': 32, 'grid_x': 2, 'grid_y': 5}, {'color': '#c9831a', 'index': 33, 'grid_x': 3, 'grid_y': 5}, {'color': '#c91a9a', 'index': 34, 'grid_x': 4, 'grid_y': 5}, {'color': '#1a5dc9', 'index': 35, 'grid_x': 5, 'grid_y': 5}], [{'color': '#20c91a', 'index': 0, 'grid_x': 0, 'grid_y': 0}, {'color': '#20c91a', 'index': 1, 'grid_x': 1, 'grid_y': 0}, {'color': '#c9c91a', 'index': 2, 'grid_x': 2, 'grid_y': 0}, {'color': '#c9c91a', 'index': 3, 'grid_x': 3, 'grid_y': 0}, {'color': '#c9c91a', 'index': 4, 'grid_x': 4, 'grid_y': 0}, {'color': '#20c91a', 'index': 5, 'grid_x': 5, 'grid_y': 0}, {'color': '#20c91a', 'index': 6, 'grid_x': 0, 'grid_y': 1}, {'color': '#20c91a', 'index': 7, 'grid_x': 1, 'grid_y': 1}, {'color': '#c9c91a', 'index': 8, 'grid_x': 2, 'grid_y': 1}, {'color': '#1a5dc9', 'index': 9, 'grid_x': 3, 'grid_y': 1}, {'color': '#c9c91a', 'index': 10, 'grid_x': 4, 'grid_y': 1}, {'color': '#c9c91a', 'index': 11, 'grid_x': 5, 'grid_y': 1}, {'color': '#20c91a', 'index': 12, 'grid_x': 0, 'grid_y': 2}, {'color': '#20c91a', 'index': 13, 'grid_x': 1, 'grid_y': 2}, {'color': '#c9c91a', 'index': 14, 'grid_x': 2, 'grid_y': 2}, {'color': '#c9c91a', 'index': 15, 'grid_x': 3, 'grid_y': 2}, {'color': '#c9c91a', 'index': 16, 'grid_x': 4, 'grid_y': 2}, {'color': '#1a5dc9', 'index': 17, 'grid_x': 5, 'grid_y': 2}, {'color': '#c9c91a', 'index': 18, 'grid_x': 0, 'grid_y': 3}, {'color': '#c9371a', 'index': 19, 'grid_x': 1, 'grid_y': 3}, {'color': '#c9371a', 'index': 20, 'grid_x': 2, 'grid_y': 3}, {'color': '#c9371a', 'index': 21, 'grid_x': 3, 'grid_y': 3}, {'color': '#c9c91a', 'index': 22, 'grid_x': 4, 'grid_y': 3}, {'color': '#c9c91a', 'index': 23, 'grid_x': 5, 'grid_y': 3}, {'color': '#c9c91a', 'index': 24, 'grid_x': 0, 'grid_y': 4}, {'color': '#c9831a', 'index': 25, 'grid_x': 1, 'grid_y': 4}, {'color': '#c9831a', 'index': 26, 'grid_x': 2, 'grid_y': 4}, {'color': '#c9831a', 'index': 27, 'grid_x': 3, 'grid_y': 4}, {'color': '#1a5dc9', 'index': 28, 'grid_x': 4, 'grid_y': 4}, {'color': '#1a5dc9', 'index': 29, 'grid_x': 5, 'grid_y': 4}, {'color': '#c9c91a', 'index': 30, 'grid_x': 0, 'grid_y': 5}, {'color': '#c9831a', 'index': 31, 'grid_x': 1, 'grid_y': 5}, {'color': '#831ac9', 'index': 32, 'grid_x': 2, 'grid_y': 5}, {'color': '#c9831a', 'index': 33, 'grid_x': 3, 'grid_y': 5}, {'color': '#c91a9a', 'index': 34, 'grid_x': 4, 'grid_y': 5}, {'color': '#1a5dc9', 'index': 35, 'grid_x': 5, 'grid_y': 5}], [{'color': '#20c91a', 'index': 0, 'grid_x': 0, 'grid_y': 0}, {'color': '#20c91a', 'index': 1, 'grid_x': 1, 'grid_y': 0}, {'color': '#c9c91a', 'index': 2, 'grid_x': 2, 'grid_y': 0}, {'color': '#c9c91a', 'index': 3, 'grid_x': 3, 'grid_y': 0}, {'color': '#c9c91a', 'index': 4, 'grid_x': 4, 'grid_y': 0}, {'color': '#20c91a', 'index': 5, 'grid_x': 5, 'grid_y': 0}, {'color': '#20c91a', 'index': 6, 'grid_x': 0, 'grid_y': 1}, {'color': '#20c91a', 'index': 7, 'grid_x': 1, 'grid_y': 1}, {'color': '#c9c91a', 'index': 8, 'grid_x': 2, 'grid_y': 1}, {'color': '#1a5dc9', 'index': 9, 'grid_x': 3, 'grid_y': 1}, {'color': '#c9c91a', 'index': 10, 'grid_x': 4, 'grid_y': 1}, {'color': '#c9c91a', 'index': 11, 'grid_x': 5, 'grid_y': 1}, {'color': '#1a5dc9', 'index': 12, 'grid_x': 0, 'grid_y': 2}, {'color': '#1a5dc9', 'index': 13, 'grid_x': 1, 'grid_y': 2}, {'color': '#c9c91a', 'index': 14, 'grid_x': 2, 'grid_y': 2}, {'color': '#c9c91a', 'index': 15, 'grid_x': 3, 'grid_y': 2}, {'color': '#c9c91a', 'index': 16, 'grid_x': 4, 'grid_y': 2}, {'color': '#1a5dc9', 'index': 17, 'grid_x': 5, 'grid_y': 2}, {'color': '#c91a9a', 'index': 18, 'grid_x': 0, 'grid_y': 3}, {'color': '#1a5dc9', 'index': 19, 'grid_x': 1, 'grid_y': 3}, {'color': '#c9371a', 'index': 20, 'grid_x': 2, 'grid_y': 3}, {'color': '#c9371a', 'index': 21, 'grid_x': 3, 'grid_y': 3}, {'color': '#c9c91a', 'index': 22, 'grid_x': 4, 'grid_y': 3}, {'color': '#c9c91a', 'index': 23, 'grid_x': 5, 'grid_y': 3}, {'color': '#1a5dc9', 'index': 24, 'grid_x': 0, 'grid_y': 4}, {'color': '#1a5dc9', 'index': 25, 'grid_x': 1, 'grid_y': 4}, {'color': '#c9831a', 'index': 26, 'grid_x': 2, 'grid_y': 4}, {'color': '#c9831a', 'index': 27, 'grid_x': 3, 'grid_y': 4}, {'color': '#1a5dc9', 'index': 28, 'grid_x': 4, 'grid_y': 4}, {'color': '#1a5dc9', 'index': 29, 'grid_x': 5, 'grid_y': 4}, {'color': '#c9c91a', 'index': 30, 'grid_x': 0, 'grid_y': 5}, {'color': '#c9831a', 'index': 31, 'grid_x': 1, 'grid_y': 5}, {'color': '#831ac9', 'index': 32, 'grid_x': 2, 'grid_y': 5}, {'color': '#c9831a', 'index': 33, 'grid_x': 3, 'grid_y': 5}, {'color': '#c91a9a', 'index': 34, 'grid_x': 4, 'grid_y': 5}, {'color': '#1a5dc9', 'index': 35, 'grid_x': 5, 'grid_y': 5}]]\n"
     ]
    }
   ],
   "source": [
    "#Create a gem pattern, starting from the initial grid and changing with a number of steps until it reaches the solution\n",
    "\n",
    "#Get random number of steps\n",
    "number_of_steps = random.randint(1,9)\n",
    "\n",
    "def get_gem_sequence_with_steps(start_grid,steps):\n",
    "    gem_sequence = [start_grid]\n",
    "    next_grid = start_grid\n",
    "    for i in range(0,steps):\n",
    "        if i > 0:\n",
    "            next_grid = gem_sequence[-1]\n",
    "        next_gem = random.sample(next_grid,1)[0]\n",
    "        gem_sequence.append(flip_gems(next_gem,next_grid))\n",
    "    return gem_sequence\n",
    "\n",
    "gem_seq = get_gem_sequence_with_steps(grid,number_of_steps)\n",
    "print(gem_seq)"
   ]
  },
  {
   "cell_type": "code",
   "execution_count": 39,
   "id": "2f28e47a",
   "metadata": {},
   "outputs": [
    {
     "name": "stdout",
     "output_type": "stream",
     "text": [
      "10\n",
      "[{'color': '#20c91a', 'index': 0, 'grid_x': 0, 'grid_y': 0}, {'color': '#20c91a', 'index': 1, 'grid_x': 1, 'grid_y': 0}, {'color': '#20c91a', 'index': 2, 'grid_x': 2, 'grid_y': 0}, {'color': '#20c91a', 'index': 3, 'grid_x': 3, 'grid_y': 0}, {'color': '#20c91a', 'index': 4, 'grid_x': 4, 'grid_y': 0}, {'color': '#20c91a', 'index': 5, 'grid_x': 5, 'grid_y': 0}, {'color': '#20c91a', 'index': 6, 'grid_x': 0, 'grid_y': 1}, {'color': '#20c91a', 'index': 7, 'grid_x': 1, 'grid_y': 1}, {'color': '#20c91a', 'index': 8, 'grid_x': 2, 'grid_y': 1}, {'color': '#20c91a', 'index': 9, 'grid_x': 3, 'grid_y': 1}, {'color': '#20c91a', 'index': 10, 'grid_x': 4, 'grid_y': 1}, {'color': '#20c91a', 'index': 11, 'grid_x': 5, 'grid_y': 1}, {'color': '#20c91a', 'index': 12, 'grid_x': 0, 'grid_y': 2}, {'color': '#20c91a', 'index': 13, 'grid_x': 1, 'grid_y': 2}, {'color': '#20c91a', 'index': 14, 'grid_x': 2, 'grid_y': 2}, {'color': '#20c91a', 'index': 15, 'grid_x': 3, 'grid_y': 2}, {'color': '#20c91a', 'index': 16, 'grid_x': 4, 'grid_y': 2}, {'color': '#20c91a', 'index': 17, 'grid_x': 5, 'grid_y': 2}, {'color': '#20c91a', 'index': 18, 'grid_x': 0, 'grid_y': 3}, {'color': '#20c91a', 'index': 19, 'grid_x': 1, 'grid_y': 3}, {'color': '#20c91a', 'index': 20, 'grid_x': 2, 'grid_y': 3}, {'color': '#20c91a', 'index': 21, 'grid_x': 3, 'grid_y': 3}, {'color': '#20c91a', 'index': 22, 'grid_x': 4, 'grid_y': 3}, {'color': '#20c91a', 'index': 23, 'grid_x': 5, 'grid_y': 3}, {'color': '#20c91a', 'index': 24, 'grid_x': 0, 'grid_y': 4}, {'color': '#20c91a', 'index': 25, 'grid_x': 1, 'grid_y': 4}, {'color': '#20c91a', 'index': 26, 'grid_x': 2, 'grid_y': 4}, {'color': '#20c91a', 'index': 27, 'grid_x': 3, 'grid_y': 4}, {'color': '#20c91a', 'index': 28, 'grid_x': 4, 'grid_y': 4}, {'color': '#20c91a', 'index': 29, 'grid_x': 5, 'grid_y': 4}, {'color': '#20c91a', 'index': 30, 'grid_x': 0, 'grid_y': 5}, {'color': '#20c91a', 'index': 31, 'grid_x': 1, 'grid_y': 5}, {'color': '#20c91a', 'index': 32, 'grid_x': 2, 'grid_y': 5}, {'color': '#20c91a', 'index': 33, 'grid_x': 3, 'grid_y': 5}, {'color': '#20c91a', 'index': 34, 'grid_x': 4, 'grid_y': 5}, {'color': '#20c91a', 'index': 35, 'grid_x': 5, 'grid_y': 5}]\n",
      "[{'color': '#20c91a', 'index': 0, 'grid_x': 0, 'grid_y': 0}, {'color': '#20c91a', 'index': 1, 'grid_x': 1, 'grid_y': 0}, {'color': '#c9c91a', 'index': 2, 'grid_x': 2, 'grid_y': 0}, {'color': '#c9c91a', 'index': 3, 'grid_x': 3, 'grid_y': 0}, {'color': '#c9c91a', 'index': 4, 'grid_x': 4, 'grid_y': 0}, {'color': '#20c91a', 'index': 5, 'grid_x': 5, 'grid_y': 0}, {'color': '#20c91a', 'index': 6, 'grid_x': 0, 'grid_y': 1}, {'color': '#20c91a', 'index': 7, 'grid_x': 1, 'grid_y': 1}, {'color': '#c9c91a', 'index': 8, 'grid_x': 2, 'grid_y': 1}, {'color': '#1a5dc9', 'index': 9, 'grid_x': 3, 'grid_y': 1}, {'color': '#c9c91a', 'index': 10, 'grid_x': 4, 'grid_y': 1}, {'color': '#c9c91a', 'index': 11, 'grid_x': 5, 'grid_y': 1}, {'color': '#1a5dc9', 'index': 12, 'grid_x': 0, 'grid_y': 2}, {'color': '#1a5dc9', 'index': 13, 'grid_x': 1, 'grid_y': 2}, {'color': '#c9c91a', 'index': 14, 'grid_x': 2, 'grid_y': 2}, {'color': '#c9c91a', 'index': 15, 'grid_x': 3, 'grid_y': 2}, {'color': '#c9c91a', 'index': 16, 'grid_x': 4, 'grid_y': 2}, {'color': '#1a5dc9', 'index': 17, 'grid_x': 5, 'grid_y': 2}, {'color': '#c91a9a', 'index': 18, 'grid_x': 0, 'grid_y': 3}, {'color': '#1a5dc9', 'index': 19, 'grid_x': 1, 'grid_y': 3}, {'color': '#c9371a', 'index': 20, 'grid_x': 2, 'grid_y': 3}, {'color': '#c9371a', 'index': 21, 'grid_x': 3, 'grid_y': 3}, {'color': '#c9c91a', 'index': 22, 'grid_x': 4, 'grid_y': 3}, {'color': '#c9c91a', 'index': 23, 'grid_x': 5, 'grid_y': 3}, {'color': '#1a5dc9', 'index': 24, 'grid_x': 0, 'grid_y': 4}, {'color': '#1a5dc9', 'index': 25, 'grid_x': 1, 'grid_y': 4}, {'color': '#c9831a', 'index': 26, 'grid_x': 2, 'grid_y': 4}, {'color': '#c9831a', 'index': 27, 'grid_x': 3, 'grid_y': 4}, {'color': '#1a5dc9', 'index': 28, 'grid_x': 4, 'grid_y': 4}, {'color': '#1a5dc9', 'index': 29, 'grid_x': 5, 'grid_y': 4}, {'color': '#c9c91a', 'index': 30, 'grid_x': 0, 'grid_y': 5}, {'color': '#c9831a', 'index': 31, 'grid_x': 1, 'grid_y': 5}, {'color': '#831ac9', 'index': 32, 'grid_x': 2, 'grid_y': 5}, {'color': '#c9831a', 'index': 33, 'grid_x': 3, 'grid_y': 5}, {'color': '#c91a9a', 'index': 34, 'grid_x': 4, 'grid_y': 5}, {'color': '#1a5dc9', 'index': 35, 'grid_x': 5, 'grid_y': 5}]\n"
     ]
    }
   ],
   "source": [
    "#Display the first and last gem grids in the sequence\n",
    "\n",
    "#gem_seq = get_gem_sequence_with_steps(grid,number_of_steps)\n",
    "first_grid = gem_seq[0]\n",
    "last_grid = gem_seq[-1]\n",
    "\n",
    "draw_gem_grid(first_grid,square_size,image)\n",
    "draw_gem_grid(last_grid,square_size,image)\n",
    "\n",
    "print(len(gem_seq))\n",
    "print(first_grid)\n",
    "print(last_grid)"
   ]
  },
  {
   "cell_type": "markdown",
   "id": "ceaf93ad",
   "metadata": {},
   "source": [
    "### Work out a way to get to the solution without knowing the steps"
   ]
  },
  {
   "cell_type": "code",
   "execution_count": 14,
   "id": "87f0e95e",
   "metadata": {},
   "outputs": [],
   "source": [
    "#The grid from the first\n",
    "grid_from_first_index = flip_gems(first_grid[1],first_grid)\n",
    "\n",
    "draw_gem_grid(grid_from_first_index,square_size,image)"
   ]
  },
  {
   "cell_type": "code",
   "execution_count": 15,
   "id": "5c9f2855",
   "metadata": {},
   "outputs": [
    {
     "name": "stdout",
     "output_type": "stream",
     "text": [
      "25\n",
      "36 36\n"
     ]
    }
   ],
   "source": [
    "#Write a function to compare a grid state to the final state and score it based on similarity\n",
    "\n",
    "def get_similarity_score(grid_1,grid_2):\n",
    "    score = 0\n",
    "    for i in range(0,len(grid_1)):\n",
    "        if grid_1[i]['color'] == grid_2[i]['color']:\n",
    "            score += 1\n",
    "    return score\n",
    "\n",
    "similarity_score = get_similarity_score(grid_from_first_index,last_grid)\n",
    "print(similarity_score)\n",
    "similarity_score_when_complete = get_similarity_score(first_grid,first_grid)\n",
    "print(similarity_score_when_complete,len(first_grid))"
   ]
  },
  {
   "cell_type": "code",
   "execution_count": 16,
   "id": "87a4e3d3",
   "metadata": {},
   "outputs": [
    {
     "name": "stdout",
     "output_type": "stream",
     "text": [
      "[{'idx': 0, 'score': 23}, {'idx': 1, 'score': 25}, {'idx': 2, 'score': 27}, {'idx': 3, 'score': 31}, {'idx': 4, 'score': 27}, {'idx': 5, 'score': 27}, {'idx': 6, 'score': 21}, {'idx': 7, 'score': 24}, {'idx': 8, 'score': 28}, {'idx': 9, 'score': 36}, {'idx': 10, 'score': 28}, {'idx': 11, 'score': 27}, {'idx': 12, 'score': 21}, {'idx': 13, 'score': 22}, {'idx': 14, 'score': 24}, {'idx': 15, 'score': 28}, {'idx': 16, 'score': 24}, {'idx': 17, 'score': 25}, {'idx': 18, 'score': 21}, {'idx': 19, 'score': 20}, {'idx': 20, 'score': 22}, {'idx': 21, 'score': 24}, {'idx': 22, 'score': 22}, {'idx': 23, 'score': 23}, {'idx': 24, 'score': 21}, {'idx': 25, 'score': 18}, {'idx': 26, 'score': 18}, {'idx': 27, 'score': 18}, {'idx': 28, 'score': 18}, {'idx': 29, 'score': 21}, {'idx': 30, 'score': 23}, {'idx': 31, 'score': 21}, {'idx': 32, 'score': 21}, {'idx': 33, 'score': 21}, {'idx': 34, 'score': 21}, {'idx': 35, 'score': 23}]\n"
     ]
    }
   ],
   "source": [
    "#Write a function to go through each item in the selected grid and get the similarity score\n",
    "\n",
    "def get_similarity_scores_for_grid(grid,solution_grid):\n",
    "    similarity_scores = []\n",
    "    for gem in grid:\n",
    "        #Flip the gems and then compare\n",
    "        flipped = flip_gems(gem,grid)\n",
    "        similarity_scores.append({ 'idx': gem['index'], 'score' : get_similarity_score(flipped,solution_grid)})\n",
    "    return similarity_scores\n",
    "        \n",
    "similarity_scores = get_similarity_scores_for_grid(first_grid,last_grid)\n",
    "print(similarity_scores)\n"
   ]
  },
  {
   "cell_type": "code",
   "execution_count": 17,
   "id": "15ab021a",
   "metadata": {},
   "outputs": [
    {
     "name": "stdout",
     "output_type": "stream",
     "text": [
      "[{'idx': 0, 'score': 23}, {'idx': 1, 'score': 25}, {'idx': 9, 'score': 19}, {'idx': 3, 'score': 31}, {'idx': 4, 'score': 27}, {'idx': 5, 'score': 27}, {'idx': 6, 'score': 21}, {'idx': 7, 'score': 24}, {'idx': 8, 'score': 28}, {'idx': 9, 'score': 36}, {'idx': 10, 'score': 28}, {'idx': 11, 'score': 27}, {'idx': 12, 'score': 21}, {'idx': 13, 'score': 22}, {'idx': 14, 'score': 24}, {'idx': 15, 'score': 28}, {'idx': 16, 'score': 24}, {'idx': 17, 'score': 25}, {'idx': 18, 'score': 21}, {'idx': 19, 'score': 20}, {'idx': 20, 'score': 22}, {'idx': 21, 'score': 24}, {'idx': 22, 'score': 22}, {'idx': 23, 'score': 23}, {'idx': 24, 'score': 21}, {'idx': 25, 'score': 18}, {'idx': 26, 'score': 18}, {'idx': 27, 'score': 18}, {'idx': 28, 'score': 18}, {'idx': 29, 'score': 21}, {'idx': 30, 'score': 23}, {'idx': 31, 'score': 21}, {'idx': 32, 'score': 21}, {'idx': 33, 'score': 21}, {'idx': 34, 'score': 21}, {'idx': 35, 'score': 23}] 9\n"
     ]
    }
   ],
   "source": [
    "#Get the highest score\n",
    "def get_highest_score(score_list):\n",
    "    max_score = float('-inf')  # Initialize with negative infinity\n",
    "    max_score_index = None\n",
    "    for entry in score_list:\n",
    "        if entry['score'] > max_score:\n",
    "            max_score = entry['score']\n",
    "            max_score_index = entry['idx']\n",
    "    return max_score_index\n",
    "\n",
    "similarity_scores[2] = { 'idx': 9, 'score': 19 } \n",
    "highest_score = get_highest_score(similarity_scores)\n",
    "print(similarity_scores,highest_score)"
   ]
  },
  {
   "cell_type": "code",
   "execution_count": 18,
   "id": "9693c5a1",
   "metadata": {},
   "outputs": [
    {
     "name": "stdout",
     "output_type": "stream",
     "text": [
      "9\n"
     ]
    }
   ],
   "source": [
    "#Another method to get the higests scores get highest and select one at random\n",
    "\n",
    "def get_highest_score_2(score_list):\n",
    "    # Find the highest score\n",
    "    max_score = max(entry['score'] for entry in score_list)\n",
    "    # Filter the list to include only entries with the highest score\n",
    "    highest_score_entries = [entry for entry in score_list if entry['score'] == max_score]\n",
    "    #Select one at random\n",
    "    random_score = random.sample(highest_score_entries,1)[0]\n",
    "    return random_score['idx']\n",
    "\n",
    "print(get_highest_score_2(similarity_scores))"
   ]
  },
  {
   "cell_type": "code",
   "execution_count": 56,
   "id": "500d51e8",
   "metadata": {},
   "outputs": [
    {
     "name": "stdout",
     "output_type": "stream",
     "text": [
      "1\n",
      "1\n",
      "2\n",
      "1\n",
      "3\n",
      "1\n",
      "5\n",
      "4\n",
      "2\n",
      "MAX DEPTH REACHED 9 {'idx': 5, 'score': 29}\n",
      "MAX DEPTH REACHED 10 {'idx': 5, 'score': 29}\n",
      "3\n",
      "MAX DEPTH REACHED 12 {'idx': 5, 'score': 29}\n",
      "MAX DEPTH REACHED 13 {'idx': 5, 'score': 29}\n",
      "MAX DEPTH REACHED 14 {'idx': 5, 'score': 29}\n",
      "1\n",
      "MAX DEPTH REACHED 16 {'idx': 5, 'score': 29}\n",
      "3\n",
      "MAX DEPTH REACHED 18 {'idx': 5, 'score': 29}\n",
      "MAX DEPTH REACHED 19 {'idx': 5, 'score': 29}\n",
      "MAX DEPTH REACHED 20 {'idx': 5, 'score': 29}\n",
      "3\n",
      "2\n",
      "MAX DEPTH REACHED 23 {'idx': 5, 'score': 29}\n",
      "MAX DEPTH REACHED 24 {'idx': 5, 'score': 29}\n",
      "2\n",
      "MAX DEPTH REACHED 26 {'idx': 5, 'score': 29}\n",
      "MAX DEPTH REACHED 27 {'idx': 5, 'score': 29}\n",
      "3\n",
      "MAX DEPTH REACHED 29 {'idx': 5, 'score': 29}\n",
      "MAX DEPTH REACHED 30 {'idx': 5, 'score': 29}\n",
      "MAX DEPTH REACHED 31 {'idx': 5, 'score': 29}\n",
      "4\n",
      "3\n",
      "MAX DEPTH REACHED 34 {'idx': 5, 'score': 29}\n",
      "MAX DEPTH REACHED 35 {'idx': 5, 'score': 29}\n",
      "MAX DEPTH REACHED 36 {'idx': 5, 'score': 29}\n",
      "1\n",
      "MAX DEPTH REACHED 38 {'idx': 8, 'score': 31}\n",
      "1\n",
      "MAX DEPTH REACHED 40 {'idx': 8, 'score': 32}\n",
      "3\n",
      "MAX DEPTH REACHED 42 {'idx': 5, 'score': 29}\n",
      "MAX DEPTH REACHED 43 {'idx': 5, 'score': 29}\n",
      "MAX DEPTH REACHED 44 {'idx': 5, 'score': 29}\n",
      "1\n",
      "1\n",
      "MAX DEPTH REACHED 47 {'idx': 8, 'score': 30}\n",
      "3\n",
      "1\n",
      "MAX DEPTH REACHED 50 {'idx': 8, 'score': 33}\n",
      "1\n",
      "MAX DEPTH REACHED 52 {'idx': 8, 'score': 32}\n",
      "3\n",
      "MAX DEPTH REACHED 54 {'idx': 5, 'score': 29}\n",
      "MAX DEPTH REACHED 55 {'idx': 5, 'score': 29}\n",
      "MAX DEPTH REACHED 56 {'idx': 5, 'score': 29}\n",
      "1\n",
      "6\n",
      "5\n",
      "2\n",
      "MAX DEPTH REACHED 61 {'idx': 5, 'score': 29}\n",
      "MAX DEPTH REACHED 62 {'idx': 5, 'score': 29}\n",
      "3\n",
      "MAX DEPTH REACHED 64 {'idx': 5, 'score': 29}\n",
      "MAX DEPTH REACHED 65 {'idx': 5, 'score': 29}\n",
      "MAX DEPTH REACHED 66 {'idx': 5, 'score': 29}\n",
      "4\n",
      "MAX DEPTH REACHED 68 {'idx': 5, 'score': 29}\n",
      "MAX DEPTH REACHED 69 {'idx': 5, 'score': 29}\n",
      "MAX DEPTH REACHED 70 {'idx': 5, 'score': 29}\n",
      "MAX DEPTH REACHED 71 {'idx': 5, 'score': 29}\n",
      "1\n",
      "MAX DEPTH REACHED 73 {'idx': 5, 'score': 29}\n",
      "3\n",
      "MAX DEPTH REACHED 75 {'idx': 5, 'score': 29}\n",
      "MAX DEPTH REACHED 76 {'idx': 5, 'score': 29}\n",
      "MAX DEPTH REACHED 77 {'idx': 5, 'score': 29}\n",
      "2\n",
      "1\n",
      "MAX DEPTH REACHED 80 {'idx': 5, 'score': 29}\n",
      "3\n",
      "MAX DEPTH REACHED 82 {'idx': 5, 'score': 29}\n",
      "MAX DEPTH REACHED 83 {'idx': 5, 'score': 29}\n",
      "MAX DEPTH REACHED 84 {'idx': 5, 'score': 29}\n",
      "4\n",
      "3\n",
      "MAX DEPTH REACHED 87 {'idx': 5, 'score': 29}\n",
      "MAX DEPTH REACHED 88 {'idx': 5, 'score': 29}\n",
      "MAX DEPTH REACHED 89 {'idx': 5, 'score': 29}\n",
      "2\n",
      "MAX DEPTH REACHED 91 {'idx': 5, 'score': 29}\n",
      "MAX DEPTH REACHED 92 {'idx': 5, 'score': 29}\n",
      "2\n",
      "MAX DEPTH REACHED 94 {'idx': 5, 'score': 29}\n",
      "MAX DEPTH REACHED 95 {'idx': 5, 'score': 29}\n",
      "3\n",
      "MAX DEPTH REACHED 97 {'idx': 5, 'score': 29}\n",
      "MAX DEPTH REACHED 98 {'idx': 5, 'score': 29}\n",
      "MAX DEPTH REACHED 99 {'idx': 5, 'score': 29}\n",
      "5\n",
      "4\n",
      "MAX DEPTH REACHED 102 {'idx': 5, 'score': 29}\n",
      "MAX DEPTH REACHED 103 {'idx': 5, 'score': 29}\n",
      "MAX DEPTH REACHED 104 {'idx': 5, 'score': 29}\n",
      "MAX DEPTH REACHED 105 {'idx': 5, 'score': 29}\n",
      "2\n",
      "MAX DEPTH REACHED 107 {'idx': 5, 'score': 29}\n",
      "MAX DEPTH REACHED 108 {'idx': 5, 'score': 29}\n",
      "1\n",
      "MAX DEPTH REACHED 110 {'idx': 8, 'score': 31}\n",
      "1\n",
      "MAX DEPTH REACHED 112 {'idx': 8, 'score': 32}\n",
      "3\n",
      "MAX DEPTH REACHED 114 {'idx': 5, 'score': 29}\n",
      "MAX DEPTH REACHED 115 {'idx': 5, 'score': 29}\n",
      "MAX DEPTH REACHED 116 {'idx': 5, 'score': 29}\n",
      "1\n",
      "1\n",
      "MAX DEPTH REACHED 119 {'idx': 8, 'score': 30}\n",
      "3\n",
      "1\n",
      "MAX DEPTH REACHED 122 {'idx': 8, 'score': 33}\n",
      "1\n",
      "MAX DEPTH REACHED 124 {'idx': 8, 'score': 32}\n",
      "3\n",
      "MAX DEPTH REACHED 126 {'idx': 5, 'score': 29}\n",
      "MAX DEPTH REACHED 127 {'idx': 5, 'score': 29}\n",
      "MAX DEPTH REACHED 128 {'idx': 5, 'score': 29}\n",
      "1\n",
      "6\n",
      "5\n",
      "2\n",
      "MAX DEPTH REACHED 133 {'idx': 5, 'score': 29}\n",
      "MAX DEPTH REACHED 134 {'idx': 5, 'score': 29}\n",
      "3\n",
      "MAX DEPTH REACHED 136 {'idx': 5, 'score': 29}\n",
      "MAX DEPTH REACHED 137 {'idx': 5, 'score': 29}\n",
      "MAX DEPTH REACHED 138 {'idx': 5, 'score': 29}\n",
      "4\n",
      "MAX DEPTH REACHED 140 {'idx': 5, 'score': 29}\n",
      "MAX DEPTH REACHED 141 {'idx': 5, 'score': 29}\n",
      "MAX DEPTH REACHED 142 {'idx': 5, 'score': 29}\n",
      "MAX DEPTH REACHED 143 {'idx': 5, 'score': 29}\n",
      "1\n",
      "MAX DEPTH REACHED 145 {'idx': 5, 'score': 29}\n",
      "3\n",
      "MAX DEPTH REACHED 147 {'idx': 5, 'score': 29}\n",
      "MAX DEPTH REACHED 148 {'idx': 5, 'score': 29}\n",
      "MAX DEPTH REACHED 149 {'idx': 5, 'score': 29}\n",
      "2\n",
      "1\n",
      "MAX DEPTH REACHED 152 {'idx': 5, 'score': 29}\n",
      "3\n",
      "MAX DEPTH REACHED 154 {'idx': 5, 'score': 29}\n",
      "MAX DEPTH REACHED 155 {'idx': 5, 'score': 29}\n",
      "MAX DEPTH REACHED 156 {'idx': 5, 'score': 29}\n",
      "4\n",
      "3\n",
      "MAX DEPTH REACHED 159 {'idx': 5, 'score': 29}\n",
      "MAX DEPTH REACHED 160 {'idx': 5, 'score': 29}\n",
      "MAX DEPTH REACHED 161 {'idx': 5, 'score': 29}\n",
      "2\n",
      "MAX DEPTH REACHED 163 {'idx': 5, 'score': 29}\n",
      "MAX DEPTH REACHED 164 {'idx': 5, 'score': 29}\n",
      "2\n",
      "MAX DEPTH REACHED 166 {'idx': 5, 'score': 29}\n",
      "MAX DEPTH REACHED 167 {'idx': 5, 'score': 29}\n",
      "3\n",
      "MAX DEPTH REACHED 169 {'idx': 5, 'score': 29}\n",
      "MAX DEPTH REACHED 170 {'idx': 5, 'score': 29}\n",
      "MAX DEPTH REACHED 171 {'idx': 5, 'score': 29}\n",
      "5\n",
      "4\n",
      "MAX DEPTH REACHED 174 {'idx': 5, 'score': 29}\n",
      "MAX DEPTH REACHED 175 {'idx': 5, 'score': 29}\n",
      "MAX DEPTH REACHED 176 {'idx': 5, 'score': 29}\n",
      "MAX DEPTH REACHED 177 {'idx': 5, 'score': 29}\n",
      "2\n",
      "MAX DEPTH REACHED 179 {'idx': 5, 'score': 29}\n",
      "MAX DEPTH REACHED 180 {'idx': 5, 'score': 29}\n",
      "1\n",
      "MAX DEPTH REACHED 182 {'idx': 8, 'score': 31}\n",
      "1\n",
      "MAX DEPTH REACHED 184 {'idx': 8, 'score': 32}\n",
      "3\n",
      "MAX DEPTH REACHED 186 {'idx': 5, 'score': 29}\n",
      "MAX DEPTH REACHED 187 {'idx': 5, 'score': 29}\n",
      "MAX DEPTH REACHED 188 {'idx': 5, 'score': 29}\n",
      "1\n",
      "1\n",
      "MAX DEPTH REACHED 191 {'idx': 8, 'score': 30}\n",
      "3\n",
      "1\n",
      "MAX DEPTH REACHED 194 {'idx': 8, 'score': 33}\n",
      "1\n",
      "MAX DEPTH REACHED 196 {'idx': 8, 'score': 32}\n",
      "3\n",
      "MAX DEPTH REACHED 198 {'idx': 5, 'score': 29}\n",
      "MAX DEPTH REACHED 199 {'idx': 5, 'score': 29}\n",
      "MAX DEPTH REACHED 200 {'idx': 5, 'score': 29}\n",
      "1\n",
      "3\n",
      "1\n",
      "2\n",
      "1\n",
      "1\n",
      "MAX DEPTH REACHED 207 {'idx': 8, 'score': 34}\n",
      "4\n",
      "3\n",
      "MAX DEPTH REACHED 210 {'idx': 5, 'score': 29}\n",
      "MAX DEPTH REACHED 211 {'idx': 5, 'score': 29}\n",
      "MAX DEPTH REACHED 212 {'idx': 5, 'score': 29}\n",
      "3\n",
      "MAX DEPTH REACHED 214 {'idx': 5, 'score': 29}\n",
      "MAX DEPTH REACHED 215 {'idx': 5, 'score': 29}\n",
      "MAX DEPTH REACHED 216 {'idx': 5, 'score': 29}\n",
      "1\n",
      "MAX DEPTH REACHED 218 {'idx': 8, 'score': 30}\n",
      "3\n",
      "MAX DEPTH REACHED 220 {'idx': 5, 'score': 29}\n",
      "MAX DEPTH REACHED 221 {'idx': 5, 'score': 29}\n",
      "MAX DEPTH REACHED 222 {'idx': 5, 'score': 29}\n",
      "1\n",
      "2\n",
      "1\n",
      "1\n",
      "MAX DEPTH REACHED 227 {'idx': 8, 'score': 34}\n",
      "5\n",
      "4\n",
      "MAX DEPTH REACHED 230 {'idx': 5, 'score': 29}\n",
      "MAX DEPTH REACHED 231 {'idx': 5, 'score': 29}\n",
      "MAX DEPTH REACHED 232 {'idx': 5, 'score': 29}\n",
      "MAX DEPTH REACHED 233 {'idx': 5, 'score': 29}\n",
      "2\n",
      "MAX DEPTH REACHED 235 {'idx': 5, 'score': 29}\n",
      "MAX DEPTH REACHED 236 {'idx': 5, 'score': 29}\n",
      "4\n",
      "MAX DEPTH REACHED 238 {'idx': 5, 'score': 29}\n",
      "MAX DEPTH REACHED 239 {'idx': 5, 'score': 29}\n",
      "MAX DEPTH REACHED 240 {'idx': 5, 'score': 29}\n",
      "MAX DEPTH REACHED 241 {'idx': 5, 'score': 29}\n",
      "1\n",
      "MAX DEPTH REACHED 243 {'idx': 8, 'score': 30}\n",
      "3\n",
      "MAX DEPTH REACHED 245 {'idx': 5, 'score': 29}\n",
      "MAX DEPTH REACHED 246 {'idx': 5, 'score': 29}\n",
      "MAX DEPTH REACHED 247 {'idx': 5, 'score': 29}\n",
      "1\n",
      "2\n",
      "1\n",
      "1\n",
      "MAX DEPTH REACHED 252 {'idx': 8, 'score': 34}\n",
      "5\n",
      "4\n",
      "MAX DEPTH REACHED 255 {'idx': 5, 'score': 29}\n",
      "MAX DEPTH REACHED 256 {'idx': 5, 'score': 29}\n",
      "MAX DEPTH REACHED 257 {'idx': 5, 'score': 29}\n",
      "MAX DEPTH REACHED 258 {'idx': 5, 'score': 29}\n",
      "2\n",
      "MAX DEPTH REACHED 260 {'idx': 5, 'score': 29}\n",
      "MAX DEPTH REACHED 261 {'idx': 5, 'score': 29}\n",
      "4\n",
      "MAX DEPTH REACHED 263 {'idx': 5, 'score': 29}\n",
      "MAX DEPTH REACHED 264 {'idx': 5, 'score': 29}\n",
      "MAX DEPTH REACHED 265 {'idx': 5, 'score': 29}\n",
      "MAX DEPTH REACHED 266 {'idx': 5, 'score': 29}\n",
      "1\n",
      "MAX DEPTH REACHED 268 {'idx': 8, 'score': 30}\n",
      "3\n",
      "MAX DEPTH REACHED 270 {'idx': 5, 'score': 29}\n",
      "MAX DEPTH REACHED 271 {'idx': 5, 'score': 29}\n",
      "MAX DEPTH REACHED 272 {'idx': 5, 'score': 29}\n",
      "159 False 272\n"
     ]
    }
   ],
   "source": [
    "#Recursivley process start state changing the best known tile to see if it reaches the soltuion\n",
    "\n",
    "failed_paths = []\n",
    "found = False\n",
    "\n",
    "def solve_gem_puzzle(start_grid,end_grid,max_depth,best_score={'idx':-1,'score':0},steps=[],depth=0):\n",
    "#     if found:\n",
    "#         failed_paths.append(steps)\n",
    "#         return\n",
    "#     if len(failed_paths) > 100:\n",
    "#         print(\"I GET HERE\")\n",
    "#         return False, [], {}\n",
    "    if get_similarity_score(start_grid,end_grid) == len(start_grid):\n",
    "        #found = True\n",
    "        print(\"SOLVED\")\n",
    "        return True, steps, best_score\n",
    "    if depth == max_depth:\n",
    "        print('MAX DEPTH REACHED', len(steps), best_score)\n",
    "        failed_paths.append(steps)\n",
    "        return False, steps, best_score\n",
    "    #Check to see if solution is reached\n",
    "    #Get the similarity scores for each possible flip\n",
    "    scores = get_similarity_scores_for_grid(start_grid,end_grid)\n",
    "    max_score = max(entry['score'] for entry in scores)\n",
    "    highest_score_entries = [entry for entry in scores if entry['score'] == max_score]\n",
    "    print(len(highest_score_entries))\n",
    "    \n",
    "    results = []\n",
    "    \n",
    "    for high_score in highest_score_entries:\n",
    "        highest_score_idx = high_score['idx']\n",
    "        #Track the best score\n",
    "        new_best_score = best_score\n",
    "        if scores[highest_score_idx]['score'] > best_score['score']:\n",
    "            new_best_score = {'idx':depth,'score': scores[highest_score_idx]['score']}\n",
    "\n",
    "        next_grid = flip_gems(start_grid[highest_score_idx],start_grid)\n",
    "        new_depth = depth+1\n",
    "        steps.append({\n",
    "            'index' : highest_score_idx,\n",
    "            'grid' : next_grid\n",
    "        })\n",
    "        result = solve_gem_puzzle(next_grid,end_grid,max_depth,new_best_score,steps,new_depth)\n",
    "        results.append(result)\n",
    "        \n",
    "    \n",
    "    # Return appropriate result based on results from recursive calls\n",
    "    for result in results:\n",
    "        if result[0]:  # If one of the paths is solved, return it\n",
    "            return result\n",
    "    # If none of the paths are solved, return the last result (could be failure)\n",
    "    return results[-1]\n",
    "\n",
    "first_grid = gem_seq[0]\n",
    "last_grid = gem_seq[-1]\n",
    "solved, steps_to_solution, best_score = solve_gem_puzzle(first_grid,last_grid,len(gem_seq)-1)\n",
    "print(len(failed_paths),solved,len(steps_to_solution))"
   ]
  },
  {
   "cell_type": "code",
   "execution_count": 59,
   "id": "7905a5f7",
   "metadata": {},
   "outputs": [
    {
     "data": {
      "text/plain": [
       "272"
      ]
     },
     "execution_count": 59,
     "metadata": {},
     "output_type": "execute_result"
    }
   ],
   "source": [
    "#Run the solve function recording the paths\n",
    "len(failed_paths[-1])"
   ]
  },
  {
   "cell_type": "code",
   "execution_count": 37,
   "id": "5eefe8d5",
   "metadata": {},
   "outputs": [],
   "source": [
    "#Compare the last step to the best it has scored\n",
    "draw_gem_grid(steps_to_solution[-1]['grid'],square_size,image)\n",
    "draw_gem_grid(last_grid,square_size,image)"
   ]
  },
  {
   "cell_type": "code",
   "execution_count": null,
   "id": "a8a2e84e",
   "metadata": {},
   "outputs": [],
   "source": [
    "#Compare with the acutual solution\n",
    "draw_gem_grid(steps_to_solution[1]['grid'],square_size,image)\n",
    "draw_gem_grid(gem_seq[2],square_size,image)\n",
    "draw_gem_grid(last_grid,square_size,image)"
   ]
  },
  {
   "cell_type": "code",
   "execution_count": 63,
   "id": "3bf8a176",
   "metadata": {},
   "outputs": [
    {
     "ename": "KeyboardInterrupt",
     "evalue": "",
     "output_type": "error",
     "traceback": [
      "\u001b[0;31m---------------------------------------------------------------------------\u001b[0m",
      "\u001b[0;31mKeyboardInterrupt\u001b[0m                         Traceback (most recent call last)",
      "Cell \u001b[0;32mIn[63], line 38\u001b[0m\n\u001b[1;32m     36\u001b[0m last_grid \u001b[38;5;241m=\u001b[39m gem_seq[\u001b[38;5;241m-\u001b[39m\u001b[38;5;241m1\u001b[39m]\n\u001b[1;32m     37\u001b[0m max_steps \u001b[38;5;241m=\u001b[39m (\u001b[38;5;28mlen\u001b[39m(gem_seq) \u001b[38;5;241m-\u001b[39m \u001b[38;5;241m1\u001b[39m) \u001b[38;5;241m*\u001b[39m \u001b[38;5;241m3\u001b[39m\n\u001b[0;32m---> 38\u001b[0m solution_path \u001b[38;5;241m=\u001b[39m solve_gem_puzzle(first_grid, last_grid, max_steps)\n\u001b[1;32m     40\u001b[0m \u001b[38;5;28;01mif\u001b[39;00m solution_path \u001b[38;5;129;01mis\u001b[39;00m \u001b[38;5;129;01mnot\u001b[39;00m \u001b[38;5;28;01mNone\u001b[39;00m:\n\u001b[1;32m     41\u001b[0m     \u001b[38;5;28mprint\u001b[39m(\u001b[38;5;124m\"\u001b[39m\u001b[38;5;124mSolution found:\u001b[39m\u001b[38;5;124m\"\u001b[39m)\n",
      "Cell \u001b[0;32mIn[63], line 2\u001b[0m, in \u001b[0;36msolve_gem_puzzle\u001b[0;34m(start_grid, end_grid, max_depth)\u001b[0m\n\u001b[1;32m      1\u001b[0m \u001b[38;5;28;01mdef\u001b[39;00m \u001b[38;5;21msolve_gem_puzzle\u001b[39m(start_grid, end_grid, max_depth):\n\u001b[0;32m----> 2\u001b[0m     \u001b[38;5;28;01mreturn\u001b[39;00m dfs_search(start_grid, end_grid, max_depth, [], \u001b[38;5;241m0\u001b[39m)\n",
      "Cell \u001b[0;32mIn[63], line 25\u001b[0m, in \u001b[0;36mdfs_search\u001b[0;34m(current_grid, end_grid, max_depth, path, depth)\u001b[0m\n\u001b[1;32m     19\u001b[0m new_depth \u001b[38;5;241m=\u001b[39m depth \u001b[38;5;241m+\u001b[39m \u001b[38;5;241m1\u001b[39m\n\u001b[1;32m     20\u001b[0m new_path \u001b[38;5;241m=\u001b[39m path \u001b[38;5;241m+\u001b[39m [{\n\u001b[1;32m     21\u001b[0m     \u001b[38;5;124m'\u001b[39m\u001b[38;5;124mindex\u001b[39m\u001b[38;5;124m'\u001b[39m: highest_score_idx,\n\u001b[1;32m     22\u001b[0m     \u001b[38;5;124m'\u001b[39m\u001b[38;5;124mgrid\u001b[39m\u001b[38;5;124m'\u001b[39m: next_grid\n\u001b[1;32m     23\u001b[0m }]\n\u001b[0;32m---> 25\u001b[0m result \u001b[38;5;241m=\u001b[39m dfs_search(next_grid, end_grid, max_depth, new_path, new_depth)\n\u001b[1;32m     26\u001b[0m \u001b[38;5;28;01mif\u001b[39;00m result \u001b[38;5;129;01mis\u001b[39;00m \u001b[38;5;129;01mnot\u001b[39;00m \u001b[38;5;28;01mNone\u001b[39;00m:\n\u001b[1;32m     27\u001b[0m     \u001b[38;5;28;01mreturn\u001b[39;00m result\n",
      "Cell \u001b[0;32mIn[63], line 25\u001b[0m, in \u001b[0;36mdfs_search\u001b[0;34m(current_grid, end_grid, max_depth, path, depth)\u001b[0m\n\u001b[1;32m     19\u001b[0m new_depth \u001b[38;5;241m=\u001b[39m depth \u001b[38;5;241m+\u001b[39m \u001b[38;5;241m1\u001b[39m\n\u001b[1;32m     20\u001b[0m new_path \u001b[38;5;241m=\u001b[39m path \u001b[38;5;241m+\u001b[39m [{\n\u001b[1;32m     21\u001b[0m     \u001b[38;5;124m'\u001b[39m\u001b[38;5;124mindex\u001b[39m\u001b[38;5;124m'\u001b[39m: highest_score_idx,\n\u001b[1;32m     22\u001b[0m     \u001b[38;5;124m'\u001b[39m\u001b[38;5;124mgrid\u001b[39m\u001b[38;5;124m'\u001b[39m: next_grid\n\u001b[1;32m     23\u001b[0m }]\n\u001b[0;32m---> 25\u001b[0m result \u001b[38;5;241m=\u001b[39m dfs_search(next_grid, end_grid, max_depth, new_path, new_depth)\n\u001b[1;32m     26\u001b[0m \u001b[38;5;28;01mif\u001b[39;00m result \u001b[38;5;129;01mis\u001b[39;00m \u001b[38;5;129;01mnot\u001b[39;00m \u001b[38;5;28;01mNone\u001b[39;00m:\n\u001b[1;32m     27\u001b[0m     \u001b[38;5;28;01mreturn\u001b[39;00m result\n",
      "    \u001b[0;31m[... skipping similar frames: dfs_search at line 25 (24 times)]\u001b[0m\n",
      "Cell \u001b[0;32mIn[63], line 25\u001b[0m, in \u001b[0;36mdfs_search\u001b[0;34m(current_grid, end_grid, max_depth, path, depth)\u001b[0m\n\u001b[1;32m     19\u001b[0m new_depth \u001b[38;5;241m=\u001b[39m depth \u001b[38;5;241m+\u001b[39m \u001b[38;5;241m1\u001b[39m\n\u001b[1;32m     20\u001b[0m new_path \u001b[38;5;241m=\u001b[39m path \u001b[38;5;241m+\u001b[39m [{\n\u001b[1;32m     21\u001b[0m     \u001b[38;5;124m'\u001b[39m\u001b[38;5;124mindex\u001b[39m\u001b[38;5;124m'\u001b[39m: highest_score_idx,\n\u001b[1;32m     22\u001b[0m     \u001b[38;5;124m'\u001b[39m\u001b[38;5;124mgrid\u001b[39m\u001b[38;5;124m'\u001b[39m: next_grid\n\u001b[1;32m     23\u001b[0m }]\n\u001b[0;32m---> 25\u001b[0m result \u001b[38;5;241m=\u001b[39m dfs_search(next_grid, end_grid, max_depth, new_path, new_depth)\n\u001b[1;32m     26\u001b[0m \u001b[38;5;28;01mif\u001b[39;00m result \u001b[38;5;129;01mis\u001b[39;00m \u001b[38;5;129;01mnot\u001b[39;00m \u001b[38;5;28;01mNone\u001b[39;00m:\n\u001b[1;32m     27\u001b[0m     \u001b[38;5;28;01mreturn\u001b[39;00m result\n",
      "Cell \u001b[0;32mIn[63], line 11\u001b[0m, in \u001b[0;36mdfs_search\u001b[0;34m(current_grid, end_grid, max_depth, path, depth)\u001b[0m\n\u001b[1;32m      8\u001b[0m \u001b[38;5;28;01mif\u001b[39;00m current_grid \u001b[38;5;241m==\u001b[39m end_grid:\n\u001b[1;32m      9\u001b[0m     \u001b[38;5;28;01mreturn\u001b[39;00m path\n\u001b[0;32m---> 11\u001b[0m scores \u001b[38;5;241m=\u001b[39m get_similarity_scores_for_grid(current_grid, end_grid)\n\u001b[1;32m     12\u001b[0m max_score \u001b[38;5;241m=\u001b[39m \u001b[38;5;28mmax\u001b[39m(entry[\u001b[38;5;124m'\u001b[39m\u001b[38;5;124mscore\u001b[39m\u001b[38;5;124m'\u001b[39m] \u001b[38;5;28;01mfor\u001b[39;00m entry \u001b[38;5;129;01min\u001b[39;00m scores)\n\u001b[1;32m     13\u001b[0m highest_score_entries \u001b[38;5;241m=\u001b[39m [entry \u001b[38;5;28;01mfor\u001b[39;00m entry \u001b[38;5;129;01min\u001b[39;00m scores \u001b[38;5;28;01mif\u001b[39;00m entry[\u001b[38;5;124m'\u001b[39m\u001b[38;5;124mscore\u001b[39m\u001b[38;5;124m'\u001b[39m] \u001b[38;5;241m==\u001b[39m max_score]\n",
      "Cell \u001b[0;32mIn[16], line 7\u001b[0m, in \u001b[0;36mget_similarity_scores_for_grid\u001b[0;34m(grid, solution_grid)\u001b[0m\n\u001b[1;32m      4\u001b[0m similarity_scores \u001b[38;5;241m=\u001b[39m []\n\u001b[1;32m      5\u001b[0m \u001b[38;5;28;01mfor\u001b[39;00m gem \u001b[38;5;129;01min\u001b[39;00m grid:\n\u001b[1;32m      6\u001b[0m     \u001b[38;5;66;03m#Flip the gems and then compare\u001b[39;00m\n\u001b[0;32m----> 7\u001b[0m     flipped \u001b[38;5;241m=\u001b[39m flip_gems(gem,grid)\n\u001b[1;32m      8\u001b[0m     similarity_scores\u001b[38;5;241m.\u001b[39mappend({ \u001b[38;5;124m'\u001b[39m\u001b[38;5;124midx\u001b[39m\u001b[38;5;124m'\u001b[39m: gem[\u001b[38;5;124m'\u001b[39m\u001b[38;5;124mindex\u001b[39m\u001b[38;5;124m'\u001b[39m], \u001b[38;5;124m'\u001b[39m\u001b[38;5;124mscore\u001b[39m\u001b[38;5;124m'\u001b[39m : get_similarity_score(flipped,solution_grid)})\n\u001b[1;32m      9\u001b[0m \u001b[38;5;28;01mreturn\u001b[39;00m similarity_scores\n",
      "Cell \u001b[0;32mIn[11], line 5\u001b[0m, in \u001b[0;36mflip_gems\u001b[0;34m(gem, grid)\u001b[0m\n\u001b[1;32m      4\u001b[0m \u001b[38;5;28;01mdef\u001b[39;00m \u001b[38;5;21mflip_gems\u001b[39m(gem,grid):\n\u001b[0;32m----> 5\u001b[0m     new_grid \u001b[38;5;241m=\u001b[39m copy\u001b[38;5;241m.\u001b[39mdeepcopy(grid)  \n\u001b[1;32m      6\u001b[0m     \u001b[38;5;66;03m#Get the middle gem color and change the gem in the grid\u001b[39;00m\n\u001b[1;32m      7\u001b[0m     middle_color \u001b[38;5;241m=\u001b[39m get_next_color(color_sequence,gem,\u001b[38;5;241m2\u001b[39m)\n",
      "File \u001b[0;32m~/Documents/machine_learning/gem_puzzle/env/lib/python3.11/copy.py:146\u001b[0m, in \u001b[0;36mdeepcopy\u001b[0;34m(x, memo, _nil)\u001b[0m\n\u001b[1;32m    144\u001b[0m copier \u001b[38;5;241m=\u001b[39m _deepcopy_dispatch\u001b[38;5;241m.\u001b[39mget(\u001b[38;5;28mcls\u001b[39m)\n\u001b[1;32m    145\u001b[0m \u001b[38;5;28;01mif\u001b[39;00m copier \u001b[38;5;129;01mis\u001b[39;00m \u001b[38;5;129;01mnot\u001b[39;00m \u001b[38;5;28;01mNone\u001b[39;00m:\n\u001b[0;32m--> 146\u001b[0m     y \u001b[38;5;241m=\u001b[39m copier(x, memo)\n\u001b[1;32m    147\u001b[0m \u001b[38;5;28;01melse\u001b[39;00m:\n\u001b[1;32m    148\u001b[0m     \u001b[38;5;28;01mif\u001b[39;00m \u001b[38;5;28missubclass\u001b[39m(\u001b[38;5;28mcls\u001b[39m, \u001b[38;5;28mtype\u001b[39m):\n",
      "File \u001b[0;32m~/Documents/machine_learning/gem_puzzle/env/lib/python3.11/copy.py:206\u001b[0m, in \u001b[0;36m_deepcopy_list\u001b[0;34m(x, memo, deepcopy)\u001b[0m\n\u001b[1;32m    204\u001b[0m append \u001b[38;5;241m=\u001b[39m y\u001b[38;5;241m.\u001b[39mappend\n\u001b[1;32m    205\u001b[0m \u001b[38;5;28;01mfor\u001b[39;00m a \u001b[38;5;129;01min\u001b[39;00m x:\n\u001b[0;32m--> 206\u001b[0m     append(deepcopy(a, memo))\n\u001b[1;32m    207\u001b[0m \u001b[38;5;28;01mreturn\u001b[39;00m y\n",
      "File \u001b[0;32m~/Documents/machine_learning/gem_puzzle/env/lib/python3.11/copy.py:146\u001b[0m, in \u001b[0;36mdeepcopy\u001b[0;34m(x, memo, _nil)\u001b[0m\n\u001b[1;32m    144\u001b[0m copier \u001b[38;5;241m=\u001b[39m _deepcopy_dispatch\u001b[38;5;241m.\u001b[39mget(\u001b[38;5;28mcls\u001b[39m)\n\u001b[1;32m    145\u001b[0m \u001b[38;5;28;01mif\u001b[39;00m copier \u001b[38;5;129;01mis\u001b[39;00m \u001b[38;5;129;01mnot\u001b[39;00m \u001b[38;5;28;01mNone\u001b[39;00m:\n\u001b[0;32m--> 146\u001b[0m     y \u001b[38;5;241m=\u001b[39m copier(x, memo)\n\u001b[1;32m    147\u001b[0m \u001b[38;5;28;01melse\u001b[39;00m:\n\u001b[1;32m    148\u001b[0m     \u001b[38;5;28;01mif\u001b[39;00m \u001b[38;5;28missubclass\u001b[39m(\u001b[38;5;28mcls\u001b[39m, \u001b[38;5;28mtype\u001b[39m):\n",
      "File \u001b[0;32m~/Documents/machine_learning/gem_puzzle/env/lib/python3.11/copy.py:230\u001b[0m, in \u001b[0;36m_deepcopy_dict\u001b[0;34m(x, memo, deepcopy)\u001b[0m\n\u001b[1;32m    228\u001b[0m y \u001b[38;5;241m=\u001b[39m {}\n\u001b[1;32m    229\u001b[0m memo[\u001b[38;5;28mid\u001b[39m(x)] \u001b[38;5;241m=\u001b[39m y\n\u001b[0;32m--> 230\u001b[0m \u001b[38;5;28;01mfor\u001b[39;00m key, value \u001b[38;5;129;01min\u001b[39;00m x\u001b[38;5;241m.\u001b[39mitems():\n\u001b[1;32m    231\u001b[0m     y[deepcopy(key, memo)] \u001b[38;5;241m=\u001b[39m deepcopy(value, memo)\n\u001b[1;32m    232\u001b[0m \u001b[38;5;28;01mreturn\u001b[39;00m y\n",
      "\u001b[0;31mKeyboardInterrupt\u001b[0m: "
     ]
    }
   ],
   "source": [
    "def solve_gem_puzzle(start_grid, end_grid, max_depth):\n",
    "    return dfs_search(start_grid, end_grid, max_depth, [], 0)\n",
    "\n",
    "def dfs_search(current_grid, end_grid, max_depth, path, depth):\n",
    "    if depth > max_depth:\n",
    "        return None\n",
    "    \n",
    "    if current_grid == end_grid:\n",
    "        return path\n",
    "    \n",
    "    scores = get_similarity_scores_for_grid(current_grid, end_grid)\n",
    "    max_score = max(entry['score'] for entry in scores)\n",
    "    highest_score_entries = [entry for entry in scores if entry['score'] == max_score]\n",
    "    \n",
    "    for high_score in highest_score_entries:\n",
    "        highest_score_idx = high_score['idx']\n",
    "        \n",
    "        next_grid = flip_gems(current_grid[highest_score_idx], current_grid)\n",
    "        new_depth = depth + 1\n",
    "        new_path = path + [{\n",
    "            'index': highest_score_idx,\n",
    "            'grid': next_grid\n",
    "        }]\n",
    "        \n",
    "        result = dfs_search(next_grid, end_grid, max_depth, new_path, new_depth)\n",
    "        if result is not None:\n",
    "            return result\n",
    "    \n",
    "    return None\n",
    "\n",
    "# Initialize failed_paths somewhere before calling the function\n",
    "failed_paths = []\n",
    "\n",
    "# Call the function\n",
    "first_grid = gem_seq[0]\n",
    "last_grid = gem_seq[-1]\n",
    "max_steps = (len(gem_seq) - 1) * 3\n",
    "solution_path = solve_gem_puzzle(first_grid, last_grid, max_steps)\n",
    "\n",
    "if solution_path is not None:\n",
    "    print(\"Solution found:\")\n",
    "    for step in solution_path:\n",
    "        print(step)\n",
    "else:\n",
    "    print(\"No solution found.\")\n"
   ]
  },
  {
   "cell_type": "code",
   "execution_count": null,
   "id": "805f6004",
   "metadata": {},
   "outputs": [],
   "source": []
  }
 ],
 "metadata": {
  "kernelspec": {
   "display_name": "Python 3 (ipykernel)",
   "language": "python",
   "name": "python3"
  },
  "language_info": {
   "codemirror_mode": {
    "name": "ipython",
    "version": 3
   },
   "file_extension": ".py",
   "mimetype": "text/x-python",
   "name": "python",
   "nbconvert_exporter": "python",
   "pygments_lexer": "ipython3",
   "version": "3.11.4"
  }
 },
 "nbformat": 4,
 "nbformat_minor": 5
}
